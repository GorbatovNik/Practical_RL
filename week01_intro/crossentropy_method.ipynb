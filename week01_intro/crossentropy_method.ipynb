{
  "cells": [
    {
      "cell_type": "markdown",
      "metadata": {
        "id": "7XGyc-FCG35I"
      },
      "source": [
        "# Crossentropy method\n",
        "\n",
        "This notebook will teach you to solve reinforcement learning problems with crossentropy method. We'll follow-up by scaling everything up and using neural network policy."
      ]
    },
    {
      "cell_type": "code",
      "execution_count": 2,
      "metadata": {
        "id": "2jwz8moTG35K",
        "colab": {
          "base_uri": "https://localhost:8080/"
        },
        "outputId": "25820108-0466-4ab4-f0c0-6fe6d6bc5c5d"
      },
      "outputs": [
        {
          "output_type": "stream",
          "name": "stdout",
          "text": [
            "Starting virtual X frame buffer: Xvfb.\n"
          ]
        }
      ],
      "source": [
        "import sys, os\n",
        "if 'google.colab' in sys.modules and not os.path.exists('.setup_complete'):\n",
        "    !wget -q https://raw.githubusercontent.com/yandexdataschool/Practical_RL/master/setup_colab.sh -O- | bash\n",
        "    !touch .setup_complete\n",
        "\n",
        "# This code creates a virtual display to draw game images on.\n",
        "# It will have no effect if your machine has a monitor.\n",
        "if type(os.environ.get(\"DISPLAY\")) is not str or len(os.environ.get(\"DISPLAY\")) == 0:\n",
        "    !bash ../xvfb start\n",
        "    os.environ['DISPLAY'] = ':1'"
      ]
    },
    {
      "cell_type": "code",
      "execution_count": 3,
      "metadata": {
        "id": "oe7EKolvLC67",
        "colab": {
          "base_uri": "https://localhost:8080/"
        },
        "outputId": "44eee85c-118a-41d6-87b0-d3485be333da"
      },
      "outputs": [
        {
          "output_type": "stream",
          "name": "stdout",
          "text": [
            "Requirement already satisfied: gymnasium[toy_text] in /usr/local/lib/python3.11/dist-packages (1.0.0)\n",
            "Requirement already satisfied: numpy>=1.21.0 in /usr/local/lib/python3.11/dist-packages (from gymnasium[toy_text]) (1.26.4)\n",
            "Requirement already satisfied: cloudpickle>=1.2.0 in /usr/local/lib/python3.11/dist-packages (from gymnasium[toy_text]) (3.1.1)\n",
            "Requirement already satisfied: typing-extensions>=4.3.0 in /usr/local/lib/python3.11/dist-packages (from gymnasium[toy_text]) (4.12.2)\n",
            "Requirement already satisfied: farama-notifications>=0.0.1 in /usr/local/lib/python3.11/dist-packages (from gymnasium[toy_text]) (0.0.4)\n",
            "Requirement already satisfied: pygame>=2.1.3 in /usr/local/lib/python3.11/dist-packages (from gymnasium[toy_text]) (2.6.1)\n"
          ]
        }
      ],
      "source": [
        "!pip install gymnasium[toy_text]"
      ]
    },
    {
      "cell_type": "markdown",
      "metadata": {
        "id": "IHXnU2QWG35L"
      },
      "source": [
        "# Create stochastic policy\n",
        "\n",
        "This time our policy should be a probability distribution.\n",
        "\n",
        "```policy[s,a] = P(take action a | in state s)```\n",
        "\n",
        "Since we still use integer state and action representations, you can use a 2-dimensional array to represent the policy.\n",
        "\n",
        "Please initialize the policy __uniformly__, that is, probabililities of all actions should be equal."
      ]
    },
    {
      "cell_type": "markdown",
      "metadata": {
        "id": "9zR1fCUrG35L"
      },
      "source": [
        "# Play the game\n",
        "\n",
        "Just like before, but we also record all states and actions we took."
      ]
    },
    {
      "cell_type": "code",
      "execution_count": 65,
      "metadata": {
        "id": "d4v8WmvlG35L",
        "outputId": "dbd6f139-9f06-460d-f139-4e12f020f413",
        "colab": {
          "base_uri": "https://localhost:8080/"
        }
      },
      "outputs": [
        {
          "output_type": "stream",
          "name": "stdout",
          "text": [
            "n_states=500, n_actions=6\n"
          ]
        }
      ],
      "source": [
        "import gymnasium as gym\n",
        "import numpy as np\n",
        "import matplotlib.pyplot as plt\n",
        "\n",
        "env = gym.make(\"Taxi-v3\", render_mode=\"rgb_array\")\n",
        "n_states = env.observation_space.n\n",
        "n_actions = env.action_space.n\n",
        "\n",
        "print(f\"n_states={n_states}, n_actions={n_actions}\")\n",
        "\n",
        "def initialize_policy(n_states, n_actions):\n",
        "    policy = np.ones((n_states, n_actions), dtype=np.float32)/n_actions\n",
        "\n",
        "    return policy\n",
        "\n",
        "policy = initialize_policy(n_states, n_actions)\n",
        "\n",
        "def generate_session(env, policy, t_max=10**4, s=None, dropout=0.0, a=None, return_only_reward=False):\n",
        "    \"\"\"\n",
        "    Play game until end or for t_max ticks.\n",
        "    :param policy: an array of shape [n_states,n_actions] with action probabilities\n",
        "    :returns: list of states, list of actions and sum of rewards\n",
        "    \"\"\"\n",
        "    if not return_only_reward:\n",
        "        states, actions = [], []\n",
        "    total_reward = 0.0\n",
        "\n",
        "    if not s:\n",
        "        s, _ = env.reset()\n",
        "\n",
        "    if a:\n",
        "        if not return_only_reward:\n",
        "            states.append(s)\n",
        "            actions.append(a)\n",
        "        new_s, r, terminated, truncated, _ = env.step(a)\n",
        "        total_reward += r\n",
        "        s = new_s\n",
        "\n",
        "    for t in range(t_max):\n",
        "\n",
        "        if np.random.uniform(0, 1) < dropout:\n",
        "            a = np.random.choice(range(n_actions))\n",
        "        else:\n",
        "\n",
        "            # print(s, \" \", policy[s])\n",
        "            a = np.random.choice(range(n_actions), p=policy[s]/policy[s].sum())\n",
        "\n",
        "\n",
        "        # print(env.step(a))\n",
        "        new_s, r, terminated, truncated, _ = env.step(a)\n",
        "\n",
        "        # Record information we just got from the environment.\n",
        "        if not return_only_reward:\n",
        "            states.append(s)\n",
        "            actions.append(a)\n",
        "        total_reward += r\n",
        "\n",
        "        s = new_s\n",
        "        if terminated:\n",
        "            break\n",
        "    if return_only_reward:\n",
        "        return total_reward\n",
        "    else:\n",
        "        return states, actions, total_reward\n",
        "\n",
        "def select_elites(states_batch, actions_batch, rewards_batch, percentile):\n",
        "    \"\"\"\n",
        "    Select states and actions from games that have rewards >= percentile\n",
        "    :param states_batch: list of lists of states, states_batch[session_i][t]\n",
        "    :param actions_batch: list of lists of actions, actions_batch[session_i][t]\n",
        "    :param rewards_batch: list of rewards, rewards_batch[session_i]\n",
        "\n",
        "    :returns: elite_states,elite_actions, both 1D lists of states and respective actions from elite sessions\n",
        "\n",
        "    Please return elite states and actions in their original order\n",
        "    [i.e. sorted by session number and timestep within session]\n",
        "\n",
        "    If you are confused, see examples below. Please don't assume that states are integers\n",
        "    (they will become different later).\n",
        "    \"\"\"\n",
        "\n",
        "    reward_threshold = np.percentile(rewards_batch, percentile)\n",
        "\n",
        "    elite_states = []\n",
        "    elite_actions = []\n",
        "    for states, actions, reward in zip(states_batch, actions_batch, rewards_batch):\n",
        "        if reward >= reward_threshold:\n",
        "            elite_states.extend(states)\n",
        "            elite_actions.extend(actions)\n",
        "\n",
        "    return elite_states, elite_actions\n",
        "\n",
        "def get_new_policy(elite_states, elite_actions):\n",
        "    \"\"\"\n",
        "    Given a list of elite states/actions from select_elites,\n",
        "    return a new policy where each action probability is proportional to\n",
        "\n",
        "        policy[s_i,a_i] ~ #[occurrences of s_i and a_i in elite states/actions]\n",
        "\n",
        "    Don't forget to normalize the policy to get valid probabilities and handle the 0/0 case.\n",
        "    For states that you never visited, use a uniform distribution (1/n_actions for all states).\n",
        "\n",
        "    :param elite_states: 1D list of states from elite sessions\n",
        "    :param elite_actions: 1D list of actions from elite sessions\n",
        "\n",
        "    \"\"\"\n",
        "\n",
        "    new_policy = np.zeros([n_states, n_actions])\n",
        "\n",
        "    for state, action in zip(elite_states, elite_actions):\n",
        "        new_policy[state, action] += 1\n",
        "\n",
        "    for state in range(n_states):\n",
        "        total_occurrences = np.sum(new_policy[state])\n",
        "\n",
        "        if total_occurrences > 0:\n",
        "            new_policy[state] /= total_occurrences\n",
        "        else:\n",
        "            new_policy[state] = np.ones(n_actions) / n_actions\n",
        "\n",
        "    return new_policy\n",
        "\n",
        "\n",
        "from IPython.display import clear_output\n",
        "\n",
        "\n",
        "def show_progress(rewards_batch, log, percentile, reward_range=[-990, +10]):\n",
        "    \"\"\"\n",
        "    A convenience function that displays training progress.\n",
        "    No cool math here, just charts.\n",
        "    \"\"\"\n",
        "\n",
        "    mean_reward = np.mean(rewards_batch)\n",
        "    threshold = np.percentile(rewards_batch, percentile)\n",
        "    log.append([mean_reward, threshold])\n",
        "\n",
        "    plt.figure(figsize=[8, 4])\n",
        "    plt.subplot(1, 2, 1)\n",
        "    plt.plot(list(zip(*log))[0], label=\"Mean rewards\")\n",
        "    plt.plot(list(zip(*log))[1], label=\"Reward thresholds\")\n",
        "    plt.legend()\n",
        "    plt.grid()\n",
        "\n",
        "    plt.subplot(1, 2, 2)\n",
        "    plt.hist(rewards_batch, range=reward_range)\n",
        "    plt.vlines(\n",
        "        [np.percentile(rewards_batch, percentile)],\n",
        "        [0],\n",
        "        [100],\n",
        "        label=\"percentile\",\n",
        "        color=\"red\",\n",
        "    )\n",
        "    plt.legend()\n",
        "    plt.grid()\n",
        "    clear_output(True)\n",
        "    print(\"mean reward = %.3f, threshold=%.3f\" % (mean_reward, threshold))\n",
        "    plt.show()"
      ]
    },
    {
      "cell_type": "code",
      "execution_count": 5,
      "metadata": {
        "id": "teOLBGojG35N",
        "colab": {
          "base_uri": "https://localhost:8080/"
        },
        "outputId": "beb0d50f-e424-49e3-b5fa-76e9c5bd9a4b"
      },
      "outputs": [
        {
          "output_type": "stream",
          "name": "stdout",
          "text": [
            "Ok!\n",
            "Ok!\n"
          ]
        }
      ],
      "source": [
        "states_batch = [\n",
        "    [1, 2, 3],     # game1\n",
        "    [4, 2, 0, 2],  # game2\n",
        "    [3, 1],        # game3\n",
        "]\n",
        "\n",
        "actions_batch = [\n",
        "    [0, 2, 4],     # game1\n",
        "    [3, 2, 0, 1],  # game2\n",
        "    [3, 3],        # game3\n",
        "]\n",
        "rewards_batch = [\n",
        "    3,  # game1\n",
        "    4,  # game2\n",
        "    5,  # game3\n",
        "]\n",
        "\n",
        "test_result_0 = select_elites(states_batch, actions_batch, rewards_batch, percentile=0)\n",
        "test_result_30 = select_elites(\n",
        "    states_batch, actions_batch, rewards_batch, percentile=30\n",
        ")\n",
        "test_result_90 = select_elites(\n",
        "    states_batch, actions_batch, rewards_batch, percentile=90\n",
        ")\n",
        "test_result_100 = select_elites(\n",
        "    states_batch, actions_batch, rewards_batch, percentile=100\n",
        ")\n",
        "\n",
        "assert np.all(test_result_0[0] == [1, 2, 3, 4, 2, 0, 2, 3, 1]) and np.all(\n",
        "    test_result_0[1] == [0, 2, 4, 3, 2, 0, 1, 3, 3]\n",
        "), \"For percentile 0 you should return all states and actions in chronological order\"\n",
        "assert np.all(test_result_30[0] == [4, 2, 0, 2, 3, 1]) and np.all(\n",
        "    test_result_30[1] == [3, 2, 0, 1, 3, 3]\n",
        "), \"For percentile 30 you should only select states/actions from two first\"\n",
        "assert np.all(test_result_90[0] == [3, 1]) and np.all(\n",
        "    test_result_90[1] == [3, 3]\n",
        "), \"For percentile 90 you should only select states/actions from one game\"\n",
        "assert np.all(test_result_100[0] == [3, 1]) and np.all(\n",
        "    test_result_100[1] == [3, 3]\n",
        "), \"Please make sure you use >=, not >. Also double-check how you compute percentile.\"\n",
        "\n",
        "print(\"Ok!\")\n",
        "\n",
        "elite_states = [1, 2, 3, 4, 2, 0, 2, 3, 1]\n",
        "elite_actions = [0, 2, 4, 3, 2, 0, 1, 3, 3]\n",
        "\n",
        "new_policy = get_new_policy(elite_states, elite_actions)\n",
        "\n",
        "assert np.isfinite(\n",
        "    new_policy\n",
        ").all(), \"Your new policy contains NaNs or +-inf. Make sure you don't divide by zero.\"\n",
        "assert np.all(\n",
        "    new_policy >= 0\n",
        "), \"Your new policy can't have negative action probabilities\"\n",
        "assert np.allclose(\n",
        "    new_policy.sum(axis=-1), 1\n",
        "), \"Your new policy should be a valid probability distribution over actions\"\n",
        "\n",
        "reference_answer = np.array(\n",
        "    [\n",
        "        [1.0, 0.0, 0.0, 0.0, 0.0],\n",
        "        [0.5, 0.0, 0.0, 0.5, 0.0],\n",
        "        [0.0, 0.33333333, 0.66666667, 0.0, 0.0],\n",
        "        [0.0, 0.0, 0.0, 0.5, 0.5],\n",
        "    ]\n",
        ")\n",
        "assert np.allclose(new_policy[:4, :5], reference_answer)\n",
        "\n",
        "print(\"Ok!\")\n"
      ]
    },
    {
      "cell_type": "markdown",
      "metadata": {
        "id": "WVvZq1fSG35O"
      },
      "source": [
        "# Training loop\n",
        "Generate sessions, select N best and fit to those."
      ]
    },
    {
      "cell_type": "code",
      "source": [
        "policy = initialize_policy(n_states, n_actions)\n",
        "n_sessions = 450  # sample this many sessions\n",
        "percentile = 30  # discard this percentage of sessions with lowest rewards\n",
        "learning_rate = 0.5  # how quickly the policy is updated, on a scale from 0 to 1\n",
        "\n",
        "log = []\n",
        "\n",
        "for i in range(0, 60):\n",
        "    %time sessions = [ generate_session(env, policy, t_max=300) for _ in range(n_sessions)]\n",
        "\n",
        "    states_batch, actions_batch, rewards_batch = zip(*sessions)\n",
        "\n",
        "    elite_states, elite_actions = select_elites(states_batch, actions_batch, rewards_batch, percentile)\n",
        "\n",
        "    new_policy = get_new_policy(elite_states, elite_actions)\n",
        "    policy = learning_rate * new_policy + (1 - learning_rate) * policy\n",
        "    show_progress(rewards_batch, log, percentile)\n"
      ],
      "metadata": {
        "colab": {
          "base_uri": "https://localhost:8080/",
          "height": 385
        },
        "id": "3cV3JDIJXYR-",
        "outputId": "cfa197db-ef58-4276-f4d9-864ddc033c70"
      },
      "execution_count": 71,
      "outputs": [
        {
          "output_type": "stream",
          "name": "stdout",
          "text": [
            "mean reward = 0.940, threshold=5.000\n"
          ]
        },
        {
          "output_type": "display_data",
          "data": {
            "text/plain": [
              "<Figure size 800x400 with 2 Axes>"
            ],
            "image/png": "[encoded data removed]"
          },
          "metadata": {}
        }
      ]
    },
    {
      "cell_type": "code",
      "source": [
        "from scipy.special import softmax\n",
        "policy_softmaxed = softmax(policy*100, axis=1)\n",
        "sessions = [ generate_session(env, policy_softmaxed, t_max=100) for _ in range(1000)]\n",
        "states_batch, actions_batch, rewards_batch = zip(*sessions)\n",
        "ll = []\n",
        "show_progress(rewards_batch, ll, percentile)"
      ],
      "metadata": {
        "id": "CZAceiU99I5B",
        "outputId": "18bebc58-a19f-4ac8-a522-3a258a57b777",
        "colab": {
          "base_uri": "https://localhost:8080/",
          "height": 385
        }
      },
      "execution_count": 72,
      "outputs": [
        {
          "output_type": "stream",
          "name": "stdout",
          "text": [
            "mean reward = 5.888, threshold=6.000\n"
          ]
        },
        {
          "output_type": "display_data",
          "data": {
            "text/plain": [
              "<Figure size 800x400 with 2 Axes>"
            ],
            "image/png": "[encoded data removed]"
          },
          "metadata": {}
        }
      ]
    },
    {
      "cell_type": "code",
      "source": [
        "from tqdm import tqdm\n",
        "n_sessions = 800\n",
        "percentile = 70\n",
        "policy_tuned = policy_softmaxed.copy()\n",
        "for dropout_state in tqdm(range(n_states)):\n",
        "    policy_tuned[dropout_state] = np.ones(n_actions)/n_actions\n",
        "    sessions = [ generate_session(env, policy, t_max=500) for _ in range(n_sessions)]\n",
        "    states_batch, actions_batch, rewards_batch = zip(*sessions)\n",
        "    elite_states, elite_actions = select_elites(states_batch, actions_batch, rewards_batch, percentile)\n",
        "\n",
        "    dropout_policy = np.ones(n_actions, dtype = np.float32)\n",
        "    for state, action in zip(elite_states, elite_actions):\n",
        "        if state == dropout_state:\n",
        "            dropout_policy[action] += 1\n",
        "    dropout_policy = softmax(dropout_policy*100)\n",
        "    policy_tuned[dropout_state] = dropout_policy\n"
      ],
      "metadata": {
        "id": "nAgQdWzJ8E0_",
        "outputId": "1e57f8f1-f952-4e73-aa13-9631fcbe86eb",
        "colab": {
          "base_uri": "https://localhost:8080/"
        }
      },
      "execution_count": 49,
      "outputs": [
        {
          "output_type": "stream",
          "name": "stderr",
          "text": [
            "100%|██████████| 500/500 [06:24<00:00,  1.30it/s]\n"
          ]
        }
      ]
    },
    {
      "cell_type": "code",
      "source": [
        "policy_tuned[policy_tuned.sum(axis=1) > 1.]\n",
        "# policy_tuned2 = policy_tuned /policy_tuned.sum(axis=1, keepdims=True)"
      ],
      "metadata": {
        "id": "eK7dec2dGm9f",
        "outputId": "ba8476f5-a5be-47e1-a695-6fca0a425ca8",
        "colab": {
          "base_uri": "https://localhost:8080/"
        }
      },
      "execution_count": 52,
      "outputs": [
        {
          "output_type": "execute_result",
          "data": {
            "text/plain": [
              "array([[0.16666667, 0.16666667, 0.16666667, 0.16666667, 0.16666667,\n",
              "        0.16666667],\n",
              "       [0.16666667, 0.16666667, 0.16666667, 0.16666667, 0.16666667,\n",
              "        0.16666667],\n",
              "       [0.16666667, 0.16666667, 0.16666667, 0.16666667, 0.16666667,\n",
              "        0.16666667],\n",
              "       ...,\n",
              "       [0.16666667, 0.16666667, 0.16666667, 0.16666667, 0.16666667,\n",
              "        0.16666667],\n",
              "       [0.16666667, 0.16666667, 0.16666667, 0.16666667, 0.16666667,\n",
              "        0.16666667],\n",
              "       [0.16666667, 0.16666667, 0.16666667, 0.16666667, 0.16666667,\n",
              "        0.16666667]])"
            ]
          },
          "metadata": {},
          "execution_count": 52
        }
      ]
    },
    {
      "cell_type": "code",
      "source": [
        "sessions = [ generate_session(env, policy_tuned, t_max=300) for _ in range(2000)]\n",
        "states_batch, actions_batch, rewards_batch = zip(*sessions)\n",
        "ll = []\n",
        "show_progress(rewards_batch, ll, percentile)"
      ],
      "metadata": {
        "id": "ExhhNrqFDld9",
        "outputId": "7a7275f1-06e6-4711-f028-26246edd392e",
        "colab": {
          "base_uri": "https://localhost:8080/",
          "height": 385
        }
      },
      "execution_count": 56,
      "outputs": [
        {
          "output_type": "stream",
          "name": "stdout",
          "text": [
            "mean reward = -178.367, threshold=9.000\n"
          ]
        },
        {
          "output_type": "display_data",
          "data": {
            "text/plain": [
              "<Figure size 800x400 with 2 Axes>"
            ],
            "image/png": "[encoded data removed]"
          },
          "metadata": {}
        }
      ]
    },
    {
      "cell_type": "code",
      "source": [
        "n_sessions = 450  # sample this many sessions\n",
        "percentile = 10  # discard this percentage of sessions with lowest rewards\n",
        "learning_rate = 0.3  # how quickly the policy is updated, on a scale from 0 to 1\n",
        "\n",
        "log2 = log.copy()\n",
        "\n",
        "for i in range(60, 100):\n",
        "    %time sessions = [ generate_session(env, policy, t_max=500) for _ in range(n_sessions)]\n",
        "\n",
        "    states_batch, actions_batch, rewards_batch = zip(*sessions)\n",
        "\n",
        "    elite_states, elite_actions = select_elites(states_batch, actions_batch, rewards_batch, percentile)\n",
        "\n",
        "    new_policy = get_new_policy(elite_states, elite_actions)\n",
        "    assert np.allclose(new_policy.sum(axis=1), np.ones(n_states, dtype=np.float32))\n",
        "    policy = learning_rate * new_policy + (1 - learning_rate) * policy\n",
        "    assert np.allclose(policy.sum(axis=1), np.ones(n_states, dtype=np.float32))\n",
        "    # display results on chart\n",
        "    show_progress(rewards_batch, log, percentile)"
      ],
      "metadata": {
        "id": "VZmCd-sy2GFe"
      },
      "execution_count": null,
      "outputs": []
    },
    {
      "cell_type": "code",
      "source": [
        "print(states_batch[:4])\n",
        "print(actions_batch[:4])\n",
        "print(rewards_batch[:4])"
      ],
      "metadata": {
        "id": "ta7CzsWf-Vgo",
        "outputId": "513fa61a-44ca-49f0-bce2-6e9e9f0143f0",
        "colab": {
          "base_uri": "https://localhost:8080/"
        }
      },
      "execution_count": null,
      "outputs": [
        {
          "output_type": "stream",
          "name": "stdout",
          "text": [
            "([429], [61], [148], [14])\n",
            "([1], [3], [0], [2])\n",
            "(-1.0, -1.0, -1.0, -1.0)\n"
          ]
        }
      ]
    },
    {
      "cell_type": "code",
      "source": [
        "\n",
        "import copy\n",
        "from tqdm import tqdm\n",
        "# env = gym.make(\"Taxi-v3\", render_mode=\"rgb_array\")\n",
        "# policy = initialize_policy(n_states, n_actions)\n",
        "n_sessions = 250  # sample this many sessions\n",
        "# percentile = 70 # discard this percentage of sessions with lowest rewards\n",
        "learning_rate = 0.3  # how quickly the policy is updated, on a scale from 0 to 1\n",
        "\n",
        "log = []\n",
        "\n",
        "# for _ in range(500):\n",
        "#     start, _ = env.reset()\n",
        "\n",
        "#     for action in range(n_actions):\n",
        "#         for _ in range(10):\n",
        "#             sessions = []\n",
        "#             fixed_env = copy.copy(env)\n",
        "#             sessions.append(generate_session(fixed_env, policy, t_max=10**3, s=start, a=action))\n",
        "\n",
        "#     # rewbs = []\n",
        "logg = []\n",
        "for _ in range(20):\n",
        "    for i in tqdm(range(400)):\n",
        "        start, _ = env.reset()\n",
        "        states = []\n",
        "        actions = []\n",
        "        # sessions = []\n",
        "        fixed_env = copy.copy(env)\n",
        "        rewards = []\n",
        "        for act in range(n_actions):\n",
        "            reward = 0.0\n",
        "            sessions = []\n",
        "            for _ in range(100):\n",
        "                sessions.append(generate_session(fixed_env, policy, t_max=100, s=start, a=act, return_only_reward=False))\n",
        "            states_batch, actions_batch, rewards_batch = zip(*sessions)\n",
        "            # print(states_batch[:4])\n",
        "            # print(actions_batch[:4])\n",
        "            reward = sum(rewards_batch)\n",
        "            rewards.append(reward)\n",
        "            break\n",
        "        break\n",
        "        opt_action = rewards.index(max(rewards))\n",
        "        states.append(start)\n",
        "        actions.append(opt_action)\n",
        "        new_policy = get_new_policy(states, actions)\n",
        "        policy = learning_rate * new_policy + (1 - learning_rate) * policy\n",
        "        # show_progress(rewards_batch, log, percentile)\n",
        "    break\n",
        "    sessions = [ generate_session(env, policy, t_max=100) for _ in range(n_sessions)]\n",
        "    states_batch, actions_batch, rewards_batch = zip(*sessions)\n",
        "    show_progress(rewards_batch, logg, percentile)\n"
      ],
      "metadata": {
        "colab": {
          "base_uri": "https://localhost:8080/"
        },
        "id": "pzwoaNzEdEKl",
        "outputId": "7d2399ee-1d98-4931-ec6f-4a9382da01e9"
      },
      "execution_count": 66,
      "outputs": [
        {
          "output_type": "stream",
          "name": "stderr",
          "text": [
            "  0%|          | 0/400 [00:00<?, ?it/s]"
          ]
        },
        {
          "output_type": "stream",
          "name": "stdout",
          "text": [
            "([292, 292, 292, 292, 292, 292, 292, 192, 292, 292, 272, 172, 172, 152, 152, 152, 152, 252, 252, 272, 172, 72, 72, 72, 52, 52, 52, 52, 152, 152, 152, 252, 232, 132, 112, 212, 212, 112, 12, 112, 112, 12, 12, 12, 32, 32, 32, 12, 112, 112, 112, 212, 112, 12, 12, 112, 112, 212, 212, 112, 112, 212, 212, 312, 312, 312, 412, 412, 412, 412, 412, 412, 412, 412, 412, 412, 412, 412, 412, 412, 412, 412, 412, 412, 412, 412, 412, 412, 412, 312, 212, 112, 112, 132, 132, 112, 132, 32, 12, 112], [292, 12, 12, 12, 12, 12, 112, 212, 312, 312, 312, 212, 112, 212, 212, 212, 212, 212, 312, 312, 312, 212, 212, 312, 312, 212, 212, 112, 112, 112, 12, 12, 32, 32, 132, 232, 232, 232, 332, 332, 332, 232, 332, 332, 352, 252, 232, 132, 132, 32, 32, 32, 32, 32, 12, 112, 112, 132, 112, 112, 12, 12, 32, 132, 132, 132, 112, 212, 232, 132, 132, 232, 132, 32, 32, 32, 132, 232, 232, 232, 232, 332, 332, 432, 432, 432, 332, 352, 352, 352, 352, 352, 452, 452, 352, 252, 252, 232, 212, 212], [292, 212, 312, 312, 412, 312, 412, 412, 412, 412, 312, 312, 412, 412, 412, 412, 412, 312, 312, 212, 212, 232, 132, 132, 132, 132, 132, 112, 132, 232, 232, 332, 332, 332, 432, 432, 432, 432, 452, 452, 452, 452, 452, 452, 352, 352, 352, 352, 252, 152, 172, 152, 152, 252, 152, 152, 152, 152, 172, 172, 172, 192, 92, 72, 92, 92, 92, 192, 172, 192, 192, 192, 292, 292, 192, 192, 292, 192, 192, 192, 192, 92, 192, 92, 92, 92, 92, 92, 72, 72, 52, 52, 72, 52, 52, 152, 152, 172, 172, 152], [292, 272, 372, 272, 172, 272, 272, 272, 272, 292, 392, 492, 492, 492, 492, 492, 472, 472, 472, 492, 492, 392, 292, 292, 292, 292, 292, 272, 292, 192, 192, 192, 92, 92, 72, 92, 92, 72, 52, 152, 172, 192, 172, 72, 72, 52, 52, 152, 172, 172, 172, 152, 152, 52, 52, 52, 52, 152, 152, 152, 52, 52, 52, 52, 72, 92, 92, 92, 72, 72, 72, 72, 52, 52, 52, 52, 72, 72, 92, 192, 292, 292, 292, 272, 272, 372, 372, 272, 272, 252, 152, 152, 152, 172, 272, 272, 272, 172, 192, 192])\n",
            "([2, 2, 4, 5, 2, 5, 1, 0, 2, 3, 1, 5, 3, 3, 4, 4, 0, 4, 2, 1, 1, 5, 1, 3, 5, 5, 3, 0, 4, 5, 0, 3, 1, 3, 0, 4, 1, 1, 0, 3, 1, 5, 3, 2, 4, 2, 3, 0, 3, 4, 0, 1, 1, 1, 0, 4, 0, 5, 1, 4, 0, 4, 0, 3, 3, 0, 4, 3, 5, 4, 2, 5, 0, 0, 3, 0, 0, 4, 3, 4, 5, 4, 2, 2, 0, 3, 3, 5, 1, 1, 1, 5, 2, 5, 3, 2, 1, 3, 0, 1], [5, 5, 4, 1, 1, 0, 0, 0, 5, 5, 1, 1, 0, 5, 3, 5, 5, 0, 3, 3, 1, 4, 0, 4, 1, 4, 1, 4, 3, 1, 1, 2, 4, 0, 0, 5, 4, 0, 5, 3, 1, 0, 5, 2, 1, 3, 1, 5, 1, 1, 2, 2, 2, 3, 0, 3, 2, 3, 5, 1, 5, 2, 0, 5, 5, 3, 0, 2, 1, 5, 0, 1, 1, 4, 5, 0, 0, 5, 5, 4, 0, 4, 0, 0, 4, 1, 2, 5, 2, 2, 2, 0, 0, 1, 1, 4, 3, 3, 4, 5], [4, 0, 4, 0, 1, 0, 4, 5, 3, 1, 3, 0, 4, 2, 4, 4, 1, 3, 1, 4, 2, 1, 4, 4, 2, 4, 3, 2, 0, 5, 0, 3, 4, 0, 3, 0, 0, 2, 2, 4, 2, 2, 4, 1, 5, 4, 5, 1, 1, 2, 3, 4, 0, 1, 4, 3, 5, 2, 4, 5, 2, 1, 3, 2, 5, 2, 0, 3, 2, 2, 4, 0, 5, 1, 5, 0, 1, 5, 5, 2, 1, 0, 1, 2, 2, 2, 4, 3, 4, 3, 3, 2, 3, 1, 0, 5, 2, 4, 3, 0], [2, 0, 1, 1, 0, 4, 4, 5, 2, 0, 0, 2, 4, 5, 5, 3, 5, 0, 2, 5, 1, 1, 2, 5, 5, 5, 3, 2, 1, 2, 4, 1, 2, 3, 2, 5, 3, 3, 0, 2, 2, 3, 1, 1, 3, 1, 0, 2, 4, 4, 3, 5, 1, 4, 1, 3, 0, 4, 3, 1, 1, 5, 1, 2, 2, 5, 5, 3, 1, 4, 1, 3, 3, 3, 3, 2, 1, 2, 0, 0, 2, 4, 3, 5, 0, 5, 1, 4, 3, 1, 4, 3, 2, 0, 5, 4, 1, 2, 4, 1])\n"
          ]
        },
        {
          "output_type": "stream",
          "name": "stderr",
          "text": [
            "\n"
          ]
        }
      ]
    },
    {
      "cell_type": "code",
      "source": [
        "import gymnasium as gym\n",
        "from gymnasium.wrappers import RecordVideo\n",
        "\n",
        "env1 = gym.make(\"Taxi-v3\", render_mode=\"rgb_array\")  # Ensure correct render mode\n",
        "env1 = RecordVideo(env1, video_folder=\"./videos4\", episode_trigger=lambda x: True)\n",
        "\n",
        "# Reset environment before use\n",
        "# env1.reset()\n",
        "\n",
        "# Generate sessions\n",
        "sessions = [generate_session(env1, policy_softmaxed, 200) for _ in range(10)]\n",
        "\n",
        "env1.close()  # Ensure proper closing\n"
      ],
      "metadata": {
        "colab": {
          "base_uri": "https://localhost:8080/"
        },
        "id": "SVXXgeKlZHj_",
        "outputId": "1f5b3dcd-cf01-4f97-e612-d691667b8994"
      },
      "execution_count": 73,
      "outputs": [
        {
          "output_type": "stream",
          "name": "stderr",
          "text": [
            "/usr/local/lib/python3.11/dist-packages/moviepy/config_defaults.py:1: DeprecationWarning: invalid escape sequence '\\P'\n",
            "  \"\"\"\n"
          ]
        }
      ]
    },
    {
      "cell_type": "code",
      "source": [
        "table"
      ],
      "metadata": {
        "id": "P3EId2PvF6dP",
        "outputId": "378b3dbf-f282-4420-e6f3-c82cc39c1df8",
        "colab": {
          "base_uri": "https://localhost:8080/"
        }
      },
      "execution_count": null,
      "outputs": [
        {
          "output_type": "execute_result",
          "data": {
            "text/plain": [
              "array([[1., 0., 0., 0., 0., 0.],\n",
              "       [0., 0., 0., 0., 1., 0.],\n",
              "       [0., 0., 0., 0., 1., 0.],\n",
              "       ...,\n",
              "       [0., 1., 0., 0., 0., 0.],\n",
              "       [0., 0., 0., 1., 0., 0.],\n",
              "       [0., 0., 0., 1., 0., 0.]])"
            ]
          },
          "metadata": {},
          "execution_count": 169
        }
      ]
    },
    {
      "cell_type": "code",
      "source": [
        "import gym\n",
        "import numpy\n",
        "import random\n",
        "from os import system, name\n",
        "from time import sleep\n",
        "from scipy.special import softmax\n",
        "\n",
        "# env = gym.make(\"Taxi-v3\", render_mode=\"rgb_array\")\n",
        "\n",
        "# Matrix filled with zeros.\n",
        "# The matrix will be 500x6 as there are 500 states and 6 actions.\n",
        "q_table = numpy.zeros([env.observation_space.n, env.action_space.n])\n",
        "\n",
        "training_episodes = 20000 # Amount of times to run environment while training.\n",
        "display_episodes = 10 # Amount of times to run environment after training.\n",
        "\n",
        "# Hyperparameters\n",
        "alpha = 0.1 # Learning Rate\n",
        "gamma = 0.6 # Discount Rate\n",
        "epsilon = 0.1 # Chance of selecting a random action instead of maximising reward.\n",
        "\n",
        "# For plotting metrics\n",
        "all_epochs = []\n",
        "all_penalties = []\n",
        "\n",
        "\n",
        "logg = []\n",
        "\n",
        "\n",
        "# env3 = gym.make(\"Taxi-v3\", render_mode=\"rgb_array\")\n",
        "\n",
        "\n",
        "for i in range(training_episodes):\n",
        "    state, _ = env.reset()\n",
        "    done = False\n",
        "    penalties, reward, = 0, 0\n",
        "\n",
        "    while not done:\n",
        "        if random.uniform(0, 1) < epsilon:\n",
        "            action = env.action_space.sample()\n",
        "        else:\n",
        "            action = numpy.argmax(q_table[state])\n",
        "\n",
        "        next_state, reward, done, info = env.step(action)\n",
        "\n",
        "        old_value = q_table[state, action]\n",
        "        next_max = numpy.max(q_table[next_state])\n",
        "\n",
        "        new_value = (1 - alpha) * old_value + alpha * (reward + gamma * next_max)\n",
        "        q_table[state, action] = new_value\n",
        "\n",
        "        if reward == -10:\n",
        "            penalties += 1\n",
        "\n",
        "        state = next_state\n",
        "\n",
        "    if i % 100 == 0:\n",
        "        pass\n",
        "        # print(f\"Episode: {i}\")\n",
        "    if i % 400 == 0:\n",
        "        ids = q_table.argmax(axis=1)\n",
        "        table = np.zeros_like(q_table)\n",
        "        for i in range(table.shape[0]):\n",
        "            table[i][ids[i]] = 1.0\n",
        "\n",
        "        sessions = [ generate_session(env, table, t_max=100) for _ in range(300)]\n",
        "\n",
        "        states_batch, actions_batch, rewards_batch = zip(*sessions)\n",
        "        show_progress(rewards_batch, logg, percentile)\n",
        "\n",
        "# new_policy = softmax(policy*10, axis=1)\n",
        "# q_table\n",
        "\n",
        "\n",
        "\n",
        "\n",
        "print(\"Training finished.\\n\")\n",
        "\n",
        "\n",
        "\n",
        "\n",
        "\n",
        "print(states_batch)"
      ],
      "metadata": {
        "id": "9JWoaRtMwKWk"
      },
      "execution_count": null,
      "outputs": []
    },
    {
      "cell_type": "markdown",
      "metadata": {
        "id": "K5LIoVTuG35O"
      },
      "source": [
        "### Reflecting on results\n",
        "\n",
        "You may have noticed that the taxi problem quickly converges from less than -1000 to a near-optimal score and then descends back into -50/-100. This is in part because the environment has some innate randomness. Namely, the starting points of passenger/driver change from episode to episode.\n",
        "\n",
        "In case CEM failed to learn how to win from one distinct starting point, it will simply discard it because no sessions from that starting point will make it into the \"elites\".\n",
        "\n",
        "To mitigate that problem, you can either reduce the threshold for elite sessions (duct tape way) or change the way you evaluate strategy (theoretically correct way). For each starting state, you can sample an action randomly, and then evaluate this action by running _several_ games starting from it and averaging the total reward. Choosing elite sessions with this kind of sampling (where each session's reward is counted as the average of the rewards of all sessions with the same starting state and action) should improve the performance of your policy."
      ]
    },
    {
      "cell_type": "markdown",
      "metadata": {
        "id": "ubIHBgQ-G35O"
      },
      "source": [
        "\n",
        "### You're not done yet!\n",
        "\n",
        "Go to [`./deep_crossentropy_method.ipynb`](./deep_crossentropy_method.ipynb) for a more serious task"
      ]
    }
  ],
  "metadata": {
    "colab": {
      "provenance": []
    },
    "kernelspec": {
      "display_name": "Python 3",
      "name": "python3"
    },
    "language_info": {
      "name": "python"
    }
  },
  "nbformat": 4,
  "nbformat_minor": 0
}