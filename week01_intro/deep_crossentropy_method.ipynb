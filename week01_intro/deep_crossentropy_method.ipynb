{
  "cells": [
    {
      "cell_type": "markdown",
      "metadata": {
        "id": "I_i1q1TWG9zH"
      },
      "source": [
        "# Deep Crossentropy method\n",
        "\n",
        "In this section we'll extend your CEM implementation with neural networks! You will train a multi-layer neural network to solve simple continuous state space games. __Please make sure you're done with tabular crossentropy method from the previous notebook.__\n",
        "\n",
        "![img](https://watanimg.elwatannews.com/old_news_images/large/249765_Large_20140709045740_11.jpg)\n",
        "\n"
      ]
    },
    {
      "cell_type": "code",
      "execution_count": 1,
      "metadata": {
        "id": "t4CJ1sRyG9zJ",
        "colab": {
          "base_uri": "https://localhost:8080/"
        },
        "outputId": "fb9925d1-e0f0-419c-8b1a-c3648534838e"
      },
      "outputs": [
        {
          "output_type": "stream",
          "name": "stdout",
          "text": [
            "W: Skipping acquire of configured file 'main/source/Sources' as repository 'https://r2u.stat.illinois.edu/ubuntu jammy InRelease' does not seem to provide it (sources.list entry misspelt?)\n",
            "Selecting previously unselected package libfontenc1:amd64.\n",
            "(Reading database ... 124947 files and directories currently installed.)\n",
            "Preparing to unpack .../0-libfontenc1_1%3a1.1.4-1build3_amd64.deb ...\n",
            "Unpacking libfontenc1:amd64 (1:1.1.4-1build3) ...\n",
            "Selecting previously unselected package libxfont2:amd64.\n",
            "Preparing to unpack .../1-libxfont2_1%3a2.0.5-1build1_amd64.deb ...\n",
            "Unpacking libxfont2:amd64 (1:2.0.5-1build1) ...\n",
            "Selecting previously unselected package libxkbfile1:amd64.\n",
            "Preparing to unpack .../2-libxkbfile1_1%3a1.1.0-1build3_amd64.deb ...\n",
            "Unpacking libxkbfile1:amd64 (1:1.1.0-1build3) ...\n",
            "Selecting previously unselected package x11-xkb-utils.\n",
            "Preparing to unpack .../3-x11-xkb-utils_7.7+5build4_amd64.deb ...\n",
            "Unpacking x11-xkb-utils (7.7+5build4) ...\n",
            "Selecting previously unselected package xfonts-encodings.\n",
            "Preparing to unpack .../4-xfonts-encodings_1%3a1.0.5-0ubuntu2_all.deb ...\n",
            "Unpacking xfonts-encodings (1:1.0.5-0ubuntu2) ...\n",
            "Selecting previously unselected package xfonts-utils.\n",
            "Preparing to unpack .../5-xfonts-utils_1%3a7.7+6build2_amd64.deb ...\n",
            "Unpacking xfonts-utils (1:7.7+6build2) ...\n",
            "Selecting previously unselected package xfonts-base.\n",
            "Preparing to unpack .../6-xfonts-base_1%3a1.0.5_all.deb ...\n",
            "Unpacking xfonts-base (1:1.0.5) ...\n",
            "Selecting previously unselected package xserver-common.\n",
            "Preparing to unpack .../7-xserver-common_2%3a21.1.4-2ubuntu1.7~22.04.13_all.deb ...\n",
            "Unpacking xserver-common (2:21.1.4-2ubuntu1.7~22.04.13) ...\n",
            "Selecting previously unselected package xvfb.\n",
            "Preparing to unpack .../8-xvfb_2%3a21.1.4-2ubuntu1.7~22.04.13_amd64.deb ...\n",
            "Unpacking xvfb (2:21.1.4-2ubuntu1.7~22.04.13) ...\n",
            "Setting up libfontenc1:amd64 (1:1.1.4-1build3) ...\n",
            "Setting up xfonts-encodings (1:1.0.5-0ubuntu2) ...\n",
            "Setting up libxkbfile1:amd64 (1:1.1.0-1build3) ...\n",
            "Setting up libxfont2:amd64 (1:2.0.5-1build1) ...\n",
            "Setting up x11-xkb-utils (7.7+5build4) ...\n",
            "Setting up xfonts-utils (1:7.7+6build2) ...\n",
            "Setting up xfonts-base (1:1.0.5) ...\n",
            "Setting up xserver-common (2:21.1.4-2ubuntu1.7~22.04.13) ...\n",
            "Setting up xvfb (2:21.1.4-2ubuntu1.7~22.04.13) ...\n",
            "Processing triggers for man-db (2.10.2-1) ...\n",
            "Processing triggers for fontconfig (2.13.1-4.2ubuntu5) ...\n",
            "Processing triggers for libc-bin (2.35-0ubuntu3.8) ...\n",
            "/sbin/ldconfig.real: /usr/local/lib/libtbbmalloc.so.2 is not a symbolic link\n",
            "\n",
            "/sbin/ldconfig.real: /usr/local/lib/libtbb.so.12 is not a symbolic link\n",
            "\n",
            "/sbin/ldconfig.real: /usr/local/lib/libumf.so.0 is not a symbolic link\n",
            "\n",
            "/sbin/ldconfig.real: /usr/local/lib/libtbbbind_2_5.so.3 is not a symbolic link\n",
            "\n",
            "/sbin/ldconfig.real: /usr/local/lib/libtcm_debug.so.1 is not a symbolic link\n",
            "\n",
            "/sbin/ldconfig.real: /usr/local/lib/libur_adapter_level_zero.so.0 is not a symbolic link\n",
            "\n",
            "/sbin/ldconfig.real: /usr/local/lib/libhwloc.so.15 is not a symbolic link\n",
            "\n",
            "/sbin/ldconfig.real: /usr/local/lib/libtcm.so.1 is not a symbolic link\n",
            "\n",
            "/sbin/ldconfig.real: /usr/local/lib/libur_loader.so.0 is not a symbolic link\n",
            "\n",
            "/sbin/ldconfig.real: /usr/local/lib/libtbbbind.so.3 is not a symbolic link\n",
            "\n",
            "/sbin/ldconfig.real: /usr/local/lib/libtbbmalloc_proxy.so.2 is not a symbolic link\n",
            "\n",
            "/sbin/ldconfig.real: /usr/local/lib/libur_adapter_opencl.so.0 is not a symbolic link\n",
            "\n",
            "/sbin/ldconfig.real: /usr/local/lib/libtbbbind_2_0.so.3 is not a symbolic link\n",
            "\n",
            "Starting virtual X frame buffer: Xvfb.\n"
          ]
        }
      ],
      "source": [
        "import sys, os\n",
        "if 'google.colab' in sys.modules and not os.path.exists('.setup_complete'):\n",
        "    !wget -q https://raw.githubusercontent.com/yandexdataschool/Practical_RL/master/setup_colab.sh -O- | bash\n",
        "    !touch .setup_complete\n",
        "\n",
        "# This code creates a virtual display to draw game images on.\n",
        "# It will have no effect if your machine has a monitor.\n",
        "if type(os.environ.get(\"DISPLAY\")) is not str or len(os.environ.get(\"DISPLAY\")) == 0:\n",
        "    !bash ../xvfb start\n",
        "    os.environ['DISPLAY'] = ':1'"
      ]
    },
    {
      "cell_type": "code",
      "source": [
        "!pip install gymnasium[toy_text,classic_control]\n",
        "!apt-get install -y python3-dev python3-pip python3-setuptools swig\n",
        "!apt-get install -y libgl1-mesa-dev\n",
        "!pip install Box2D\n",
        "!pip install catboost\n",
        "!pip install joblib"
      ],
      "metadata": {
        "id": "Atfroqt4hOnS",
        "outputId": "496863df-3309-4fbe-b563-256cce62bf29",
        "colab": {
          "base_uri": "https://localhost:8080/"
        }
      },
      "execution_count": 2,
      "outputs": [
        {
          "output_type": "stream",
          "name": "stdout",
          "text": [
            "Requirement already satisfied: gymnasium[classic_control,toy_text] in /usr/local/lib/python3.11/dist-packages (1.0.0)\n",
            "Requirement already satisfied: numpy>=1.21.0 in /usr/local/lib/python3.11/dist-packages (from gymnasium[classic_control,toy_text]) (1.26.4)\n",
            "Requirement already satisfied: cloudpickle>=1.2.0 in /usr/local/lib/python3.11/dist-packages (from gymnasium[classic_control,toy_text]) (3.1.1)\n",
            "Requirement already satisfied: typing-extensions>=4.3.0 in /usr/local/lib/python3.11/dist-packages (from gymnasium[classic_control,toy_text]) (4.12.2)\n",
            "Requirement already satisfied: farama-notifications>=0.0.1 in /usr/local/lib/python3.11/dist-packages (from gymnasium[classic_control,toy_text]) (0.0.4)\n",
            "Requirement already satisfied: pygame>=2.1.3 in /usr/local/lib/python3.11/dist-packages (from gymnasium[classic_control,toy_text]) (2.6.1)\n",
            "Reading package lists... Done\n",
            "Building dependency tree... Done\n",
            "Reading state information... Done\n",
            "python3-dev is already the newest version (3.10.6-1~22.04.1).\n",
            "python3-dev set to manually installed.\n",
            "The following additional packages will be installed:\n",
            "  python3-wheel swig4.0\n",
            "Suggested packages:\n",
            "  python-setuptools-doc swig-doc swig-examples swig4.0-examples swig4.0-doc\n",
            "The following NEW packages will be installed:\n",
            "  python3-pip python3-setuptools python3-wheel swig swig4.0\n",
            "0 upgraded, 5 newly installed, 0 to remove and 32 not upgraded.\n",
            "Need to get 2,793 kB of archives.\n",
            "After this operation, 14.5 MB of additional disk space will be used.\n",
            "Get:1 http://archive.ubuntu.com/ubuntu jammy-updates/main amd64 python3-setuptools all 59.6.0-1.2ubuntu0.22.04.2 [340 kB]\n",
            "Get:2 http://archive.ubuntu.com/ubuntu jammy-updates/universe amd64 python3-wheel all 0.37.1-2ubuntu0.22.04.1 [32.0 kB]\n",
            "Get:3 http://archive.ubuntu.com/ubuntu jammy-updates/universe amd64 python3-pip all 22.0.2+dfsg-1ubuntu0.5 [1,306 kB]\n",
            "Get:4 http://archive.ubuntu.com/ubuntu jammy/universe amd64 swig4.0 amd64 4.0.2-1ubuntu1 [1,110 kB]\n",
            "Get:5 http://archive.ubuntu.com/ubuntu jammy/universe amd64 swig all 4.0.2-1ubuntu1 [5,632 B]\n",
            "Fetched 2,793 kB in 1s (2,324 kB/s)\n",
            "Selecting previously unselected package python3-setuptools.\n",
            "(Reading database ... 125510 files and directories currently installed.)\n",
            "Preparing to unpack .../python3-setuptools_59.6.0-1.2ubuntu0.22.04.2_all.deb ...\n",
            "Unpacking python3-setuptools (59.6.0-1.2ubuntu0.22.04.2) ...\n",
            "Selecting previously unselected package python3-wheel.\n",
            "Preparing to unpack .../python3-wheel_0.37.1-2ubuntu0.22.04.1_all.deb ...\n",
            "Unpacking python3-wheel (0.37.1-2ubuntu0.22.04.1) ...\n",
            "Selecting previously unselected package python3-pip.\n",
            "Preparing to unpack .../python3-pip_22.0.2+dfsg-1ubuntu0.5_all.deb ...\n",
            "Unpacking python3-pip (22.0.2+dfsg-1ubuntu0.5) ...\n",
            "Selecting previously unselected package swig4.0.\n",
            "Preparing to unpack .../swig4.0_4.0.2-1ubuntu1_amd64.deb ...\n",
            "Unpacking swig4.0 (4.0.2-1ubuntu1) ...\n",
            "Selecting previously unselected package swig.\n",
            "Preparing to unpack .../swig_4.0.2-1ubuntu1_all.deb ...\n",
            "Unpacking swig (4.0.2-1ubuntu1) ...\n",
            "Setting up python3-setuptools (59.6.0-1.2ubuntu0.22.04.2) ...\n",
            "Setting up python3-wheel (0.37.1-2ubuntu0.22.04.1) ...\n",
            "Setting up python3-pip (22.0.2+dfsg-1ubuntu0.5) ...\n",
            "Setting up swig4.0 (4.0.2-1ubuntu1) ...\n",
            "Setting up swig (4.0.2-1ubuntu1) ...\n",
            "Processing triggers for man-db (2.10.2-1) ...\n",
            "Reading package lists... Done\n",
            "Building dependency tree... Done\n",
            "Reading state information... Done\n",
            "The following additional packages will be installed:\n",
            "  libegl-dev libgl-dev libgles-dev libgles1 libglvnd-core-dev libglvnd-dev libglx-dev libopengl-dev\n",
            "The following NEW packages will be installed:\n",
            "  libegl-dev libgl-dev libgl1-mesa-dev libgles-dev libgles1 libglvnd-core-dev libglvnd-dev\n",
            "  libglx-dev libopengl-dev\n",
            "0 upgraded, 9 newly installed, 0 to remove and 32 not upgraded.\n",
            "Need to get 221 kB of archives.\n",
            "After this operation, 2,577 kB of additional disk space will be used.\n",
            "Get:1 http://archive.ubuntu.com/ubuntu jammy/main amd64 libglx-dev amd64 1.4.0-1 [14.1 kB]\n",
            "Get:2 http://archive.ubuntu.com/ubuntu jammy/main amd64 libgl-dev amd64 1.4.0-1 [101 kB]\n",
            "Get:3 http://archive.ubuntu.com/ubuntu jammy/main amd64 libegl-dev amd64 1.4.0-1 [18.0 kB]\n",
            "Get:4 http://archive.ubuntu.com/ubuntu jammy/main amd64 libgles1 amd64 1.4.0-1 [11.5 kB]\n",
            "Get:5 http://archive.ubuntu.com/ubuntu jammy/main amd64 libgles-dev amd64 1.4.0-1 [49.4 kB]\n",
            "Get:6 http://archive.ubuntu.com/ubuntu jammy/main amd64 libopengl-dev amd64 1.4.0-1 [3,400 B]\n",
            "Get:7 http://archive.ubuntu.com/ubuntu jammy/main amd64 libglvnd-core-dev amd64 1.4.0-1 [12.7 kB]\n",
            "Get:8 http://archive.ubuntu.com/ubuntu jammy/main amd64 libglvnd-dev amd64 1.4.0-1 [3,162 B]\n",
            "Get:9 http://archive.ubuntu.com/ubuntu jammy-updates/main amd64 libgl1-mesa-dev amd64 23.2.1-1ubuntu3.1~22.04.3 [6,848 B]\n",
            "Fetched 221 kB in 1s (354 kB/s)\n",
            "Selecting previously unselected package libglx-dev:amd64.\n",
            "(Reading database ... 127125 files and directories currently installed.)\n",
            "Preparing to unpack .../0-libglx-dev_1.4.0-1_amd64.deb ...\n",
            "Unpacking libglx-dev:amd64 (1.4.0-1) ...\n",
            "Selecting previously unselected package libgl-dev:amd64.\n",
            "Preparing to unpack .../1-libgl-dev_1.4.0-1_amd64.deb ...\n",
            "Unpacking libgl-dev:amd64 (1.4.0-1) ...\n",
            "Selecting previously unselected package libegl-dev:amd64.\n",
            "Preparing to unpack .../2-libegl-dev_1.4.0-1_amd64.deb ...\n",
            "Unpacking libegl-dev:amd64 (1.4.0-1) ...\n",
            "Selecting previously unselected package libgles1:amd64.\n",
            "Preparing to unpack .../3-libgles1_1.4.0-1_amd64.deb ...\n",
            "Unpacking libgles1:amd64 (1.4.0-1) ...\n",
            "Selecting previously unselected package libgles-dev:amd64.\n",
            "Preparing to unpack .../4-libgles-dev_1.4.0-1_amd64.deb ...\n",
            "Unpacking libgles-dev:amd64 (1.4.0-1) ...\n",
            "Selecting previously unselected package libopengl-dev:amd64.\n",
            "Preparing to unpack .../5-libopengl-dev_1.4.0-1_amd64.deb ...\n",
            "Unpacking libopengl-dev:amd64 (1.4.0-1) ...\n",
            "Selecting previously unselected package libglvnd-core-dev:amd64.\n",
            "Preparing to unpack .../6-libglvnd-core-dev_1.4.0-1_amd64.deb ...\n",
            "Unpacking libglvnd-core-dev:amd64 (1.4.0-1) ...\n",
            "Selecting previously unselected package libglvnd-dev:amd64.\n",
            "Preparing to unpack .../7-libglvnd-dev_1.4.0-1_amd64.deb ...\n",
            "Unpacking libglvnd-dev:amd64 (1.4.0-1) ...\n",
            "Selecting previously unselected package libgl1-mesa-dev:amd64.\n",
            "Preparing to unpack .../8-libgl1-mesa-dev_23.2.1-1ubuntu3.1~22.04.3_amd64.deb ...\n",
            "Unpacking libgl1-mesa-dev:amd64 (23.2.1-1ubuntu3.1~22.04.3) ...\n",
            "Setting up libglvnd-core-dev:amd64 (1.4.0-1) ...\n",
            "Setting up libgles1:amd64 (1.4.0-1) ...\n",
            "Setting up libglx-dev:amd64 (1.4.0-1) ...\n",
            "Setting up libopengl-dev:amd64 (1.4.0-1) ...\n",
            "Setting up libgl-dev:amd64 (1.4.0-1) ...\n",
            "Setting up libegl-dev:amd64 (1.4.0-1) ...\n",
            "Setting up libgles-dev:amd64 (1.4.0-1) ...\n",
            "Setting up libglvnd-dev:amd64 (1.4.0-1) ...\n",
            "Setting up libgl1-mesa-dev:amd64 (23.2.1-1ubuntu3.1~22.04.3) ...\n",
            "Processing triggers for libc-bin (2.35-0ubuntu3.8) ...\n",
            "/sbin/ldconfig.real: /usr/local/lib/libtbbmalloc.so.2 is not a symbolic link\n",
            "\n",
            "/sbin/ldconfig.real: /usr/local/lib/libtbb.so.12 is not a symbolic link\n",
            "\n",
            "/sbin/ldconfig.real: /usr/local/lib/libumf.so.0 is not a symbolic link\n",
            "\n",
            "/sbin/ldconfig.real: /usr/local/lib/libtbbbind_2_5.so.3 is not a symbolic link\n",
            "\n",
            "/sbin/ldconfig.real: /usr/local/lib/libtcm_debug.so.1 is not a symbolic link\n",
            "\n",
            "/sbin/ldconfig.real: /usr/local/lib/libur_adapter_level_zero.so.0 is not a symbolic link\n",
            "\n",
            "/sbin/ldconfig.real: /usr/local/lib/libhwloc.so.15 is not a symbolic link\n",
            "\n",
            "/sbin/ldconfig.real: /usr/local/lib/libtcm.so.1 is not a symbolic link\n",
            "\n",
            "/sbin/ldconfig.real: /usr/local/lib/libur_loader.so.0 is not a symbolic link\n",
            "\n",
            "/sbin/ldconfig.real: /usr/local/lib/libtbbbind.so.3 is not a symbolic link\n",
            "\n",
            "/sbin/ldconfig.real: /usr/local/lib/libtbbmalloc_proxy.so.2 is not a symbolic link\n",
            "\n",
            "/sbin/ldconfig.real: /usr/local/lib/libur_adapter_opencl.so.0 is not a symbolic link\n",
            "\n",
            "/sbin/ldconfig.real: /usr/local/lib/libtbbbind_2_0.so.3 is not a symbolic link\n",
            "\n",
            "Collecting Box2D\n",
            "  Downloading Box2D-2.3.10-cp311-cp311-manylinux_2_17_x86_64.manylinux2014_x86_64.whl.metadata (573 bytes)\n",
            "Downloading Box2D-2.3.10-cp311-cp311-manylinux_2_17_x86_64.manylinux2014_x86_64.whl (3.7 MB)\n",
            "\u001b[2K   \u001b[90m━━━━━━━━━━━━━━━━━━━━━━━━━━━━━━━━━━━━━━━━\u001b[0m \u001b[32m3.7/3.7 MB\u001b[0m \u001b[31m31.4 MB/s\u001b[0m eta \u001b[36m0:00:00\u001b[0m\n",
            "\u001b[?25hInstalling collected packages: Box2D\n",
            "Successfully installed Box2D-2.3.10\n",
            "Collecting catboost\n",
            "  Downloading catboost-1.2.7-cp311-cp311-manylinux2014_x86_64.whl.metadata (1.2 kB)\n",
            "Requirement already satisfied: graphviz in /usr/local/lib/python3.11/dist-packages (from catboost) (0.20.3)\n",
            "Requirement already satisfied: matplotlib in /usr/local/lib/python3.11/dist-packages (from catboost) (3.10.0)\n",
            "Requirement already satisfied: numpy<2.0,>=1.16.0 in /usr/local/lib/python3.11/dist-packages (from catboost) (1.26.4)\n",
            "Requirement already satisfied: pandas>=0.24 in /usr/local/lib/python3.11/dist-packages (from catboost) (2.2.2)\n",
            "Requirement already satisfied: scipy in /usr/local/lib/python3.11/dist-packages (from catboost) (1.13.1)\n",
            "Requirement already satisfied: plotly in /usr/local/lib/python3.11/dist-packages (from catboost) (5.24.1)\n",
            "Requirement already satisfied: six in /usr/local/lib/python3.11/dist-packages (from catboost) (1.17.0)\n",
            "Requirement already satisfied: python-dateutil>=2.8.2 in /usr/local/lib/python3.11/dist-packages (from pandas>=0.24->catboost) (2.8.2)\n",
            "Requirement already satisfied: pytz>=2020.1 in /usr/local/lib/python3.11/dist-packages (from pandas>=0.24->catboost) (2025.1)\n",
            "Requirement already satisfied: tzdata>=2022.7 in /usr/local/lib/python3.11/dist-packages (from pandas>=0.24->catboost) (2025.1)\n",
            "Requirement already satisfied: contourpy>=1.0.1 in /usr/local/lib/python3.11/dist-packages (from matplotlib->catboost) (1.3.1)\n",
            "Requirement already satisfied: cycler>=0.10 in /usr/local/lib/python3.11/dist-packages (from matplotlib->catboost) (0.12.1)\n",
            "Requirement already satisfied: fonttools>=4.22.0 in /usr/local/lib/python3.11/dist-packages (from matplotlib->catboost) (4.56.0)\n",
            "Requirement already satisfied: kiwisolver>=1.3.1 in /usr/local/lib/python3.11/dist-packages (from matplotlib->catboost) (1.4.8)\n",
            "Requirement already satisfied: packaging>=20.0 in /usr/local/lib/python3.11/dist-packages (from matplotlib->catboost) (24.2)\n",
            "Requirement already satisfied: pillow>=8 in /usr/local/lib/python3.11/dist-packages (from matplotlib->catboost) (11.1.0)\n",
            "Requirement already satisfied: pyparsing>=2.3.1 in /usr/local/lib/python3.11/dist-packages (from matplotlib->catboost) (3.2.1)\n",
            "Requirement already satisfied: tenacity>=6.2.0 in /usr/local/lib/python3.11/dist-packages (from plotly->catboost) (9.0.0)\n",
            "Downloading catboost-1.2.7-cp311-cp311-manylinux2014_x86_64.whl (98.7 MB)\n",
            "\u001b[2K   \u001b[90m━━━━━━━━━━━━━━━━━━━━━━━━━━━━━━━━━━━━━━━━\u001b[0m \u001b[32m98.7/98.7 MB\u001b[0m \u001b[31m8.3 MB/s\u001b[0m eta \u001b[36m0:00:00\u001b[0m\n",
            "\u001b[?25hInstalling collected packages: catboost\n",
            "Successfully installed catboost-1.2.7\n",
            "Requirement already satisfied: joblib in /usr/local/lib/python3.11/dist-packages (1.4.2)\n"
          ]
        }
      ]
    },
    {
      "cell_type": "markdown",
      "metadata": {
        "id": "Z72_alhdG9zK"
      },
      "source": [
        "# Neural Network Policy\n",
        "\n",
        "For this assignment we'll utilize the simplified neural network implementation from __[Scikit-learn](https://scikit-learn.org/stable/modules/generated/sklearn.neural_network.MLPClassifier.html)__. Here's what you'll need:\n",
        "\n",
        "* `agent.partial_fit(states, actions)` - make a single training pass over the data. Maximize the probability of :actions: from :states:\n",
        "* `agent.predict_proba(states)` - predict probabilities of all actions, a matrix of shape __[len(states), n_actions]__\n"
      ]
    },
    {
      "cell_type": "markdown",
      "metadata": {
        "id": "p85lt16qG9zL"
      },
      "source": [
        "### CEM steps\n",
        "Deep CEM uses exactly the same strategy as the regular CEM, so you can copy your function code from previous notebook.\n",
        "\n",
        "The only difference is that now each observation is not a number but a `float32` vector."
      ]
    },
    {
      "cell_type": "code",
      "execution_count": 68,
      "metadata": {
        "id": "4On-p7p4G9zL"
      },
      "outputs": [],
      "source": [
        "import gymnasium as gym\n",
        "import numpy as np\n",
        "import matplotlib.pyplot as plt\n",
        "%matplotlib inline\n",
        "\n",
        "def generate_session(env, agent, t_max, n_actions, strategy_helper=lambda state, proba: proba, reward_helper=lambda state: 0.):\n",
        "    \"\"\"\n",
        "    Play a single game using agent neural network.\n",
        "    Terminate when game finishes or after :t_max: steps\n",
        "    \"\"\"\n",
        "    states, actions = [], []\n",
        "    total_reward = 0\n",
        "    addition_reward = 0\n",
        "\n",
        "    s, _ = env.reset()\n",
        "\n",
        "    for t in range(t_max):\n",
        "\n",
        "        # use agent to predict a vector of action probabilities for state :s:\n",
        "        probs = agent.predict_proba([s])[0]\n",
        "        probs = strategy_helper(s, probs)\n",
        "\n",
        "        assert probs.shape == (env.action_space.n,), \"make sure probabilities are a vector (hint: np.reshape)\"\n",
        "\n",
        "        # use the probabilities you predicted to pick an action\n",
        "        # sample proportionally to the probabilities, don't just take the most likely action\n",
        "        a = np.random.choice(range(n_actions), p=probs)\n",
        "        # ^-- hint: try np.random.choice\n",
        "\n",
        "        new_s, r, terminated, truncated, _ = env.step(a)\n",
        "\n",
        "        # record sessions like you did before\n",
        "        states.append(s)\n",
        "        actions.append(a)\n",
        "        total_reward += r\n",
        "        addition_reward += reward_helper(s)\n",
        "\n",
        "        s = new_s\n",
        "        if terminated or truncated:\n",
        "            break\n",
        "    return states, actions, total_reward, addition_reward\n",
        "\n",
        "def select_elites(states_batch, actions_batch, rewards_batch, percentile, great_or_equal=True):\n",
        "    \"\"\"\n",
        "    Select states and actions from games that have rewards >= percentile\n",
        "    :param states_batch: list of lists of states, states_batch[session_i][t]\n",
        "    :param actions_batch: list of lists of actions, actions_batch[session_i][t]\n",
        "    :param rewards_batch: list of rewards, rewards_batch[session_i]\n",
        "\n",
        "    :returns: elite_states,elite_actions, both 1D lists of states and respective actions from elite sessions\n",
        "\n",
        "    Please return elite states and actions in their original order\n",
        "    [i.e. sorted by session number and timestep within session]\n",
        "\n",
        "    If you are confused, see examples below. Please don't assume that states are integers\n",
        "    (they will become different later).\n",
        "    \"\"\"\n",
        "\n",
        "    reward_threshold = np.percentile(rewards_batch, percentile)\n",
        "\n",
        "    elite_states = []\n",
        "    elite_actions = []\n",
        "    for states, actions, reward in zip(states_batch, actions_batch, rewards_batch):\n",
        "        if reward > reward_threshold or (reward == reward_threshold and great_or_equal):\n",
        "            elite_states.extend(states)\n",
        "            elite_actions.extend(actions)\n",
        "\n",
        "    return elite_states, elite_actions\n",
        "\n",
        "\n",
        "from IPython.display import clear_output\n",
        "\n",
        "\n",
        "def show_progress(rewards_batch, log, percentile, reward_range=[-990, +10]):\n",
        "    \"\"\"\n",
        "    A convenience function that displays training progress.\n",
        "    No cool math here, just charts.\n",
        "    \"\"\"\n",
        "\n",
        "    mean_reward = np.mean(rewards_batch)\n",
        "    threshold = np.percentile(rewards_batch, percentile)\n",
        "    log.append([mean_reward, threshold])\n",
        "\n",
        "    clear_output(True)\n",
        "    print(\"mean reward = %.3f, threshold=%.3f\" % (mean_reward, threshold))\n",
        "    plt.figure(figsize=[8, 4])\n",
        "    plt.subplot(1, 2, 1)\n",
        "    plt.plot(list(zip(*log))[0], label=\"Mean rewards\")\n",
        "    plt.plot(list(zip(*log))[1], label=\"Reward thresholds\")\n",
        "    plt.legend()\n",
        "    plt.grid()\n",
        "\n",
        "    plt.subplot(1, 2, 2)\n",
        "    plt.hist(rewards_batch, range=reward_range)\n",
        "    plt.vlines(\n",
        "        [np.percentile(rewards_batch, percentile)],\n",
        "        [0],\n",
        "        [100],\n",
        "        label=\"percentile\",\n",
        "        color=\"red\",\n",
        "    )\n",
        "    plt.legend()\n",
        "    plt.grid()\n",
        "\n",
        "    plt.show()\n"
      ]
    },
    {
      "cell_type": "markdown",
      "metadata": {
        "id": "xc40V4DaG9zM"
      },
      "source": [
        "# Training loop\n",
        "Generate sessions, select N best and fit to those."
      ]
    },
    {
      "cell_type": "code",
      "execution_count": null,
      "metadata": {
        "id": "euK7WRQiG9zM",
        "colab": {
          "base_uri": "https://localhost:8080/",
          "height": 385
        },
        "outputId": "72c39e2e-d8c9-4d05-e9ef-e2b48993ccea"
      },
      "outputs": [
        {
          "output_type": "stream",
          "name": "stdout",
          "text": [
            "mean reward = 149.020, threshold=169.000\n"
          ]
        },
        {
          "output_type": "display_data",
          "data": {
            "text/plain": [
              "<Figure size 800x400 with 2 Axes>"
            ],
            "image/png": "[encoded data removed]"
          },
          "metadata": {}
        }
      ],
      "source": [
        "# if you see \"<classname> has no attribute .env\", remove .env or update gym\n",
        "# env = gym.make(\"CartPole-v0\", render_mode=\"rgb_array\").env\n",
        "\n",
        "# env.reset()\n",
        "# n_actions = env.action_space.n\n",
        "# state_dim = env.observation_space.shape[0]\n",
        "\n",
        "# plt.imshow(env.render())\n",
        "# print(\"state vector dim =\", state_dim)\n",
        "# print(\"n_actions =\", n_actions)\n",
        "\n",
        "# env.close()\n",
        "\n",
        "\n",
        "# from sklearn.neural_network import MLPClassifier\n",
        "\n",
        "# # agent = MLPClassifier(\n",
        "# #     hidden_layer_sizes=(20, 20),\n",
        "# #     activation=\"tanh\",\n",
        "# # )\n",
        "\n",
        "# # initialize agent to the dimension of state space and number of actions\n",
        "# # agent.partial_fit([env.reset()[0]] * n_actions, range(n_actions), range(n_actions))\n",
        "\n",
        "\n",
        "# n_sessions = 450  # sample this many sessions\n",
        "# percentile = 70  # discard this percentage of sessions with lowest rewards\n",
        "# learning_rate = 0.5  # how quickly the policy is updated, on a scale from 0 to 1\n",
        "\n",
        "# # log = []\n",
        "\n",
        "# for i in range(8, 12):\n",
        "#     %time sessions = [ generate_session(env, agent, 300, n_actions) for _ in range(n_sessions)]\n",
        "\n",
        "#     states_batch, actions_batch, rewards_batch = zip(*sessions)\n",
        "\n",
        "#     elite_states, elite_actions = select_elites(states_batch, actions_batch, rewards_batch, percentile)\n",
        "\n",
        "#     agent.partial_fit(elite_states, elite_actions, range(n_actions))\n",
        "\n",
        "#     show_progress(\n",
        "#         rewards_batch, log, percentile, reward_range=[0, np.max(rewards_batch)]\n",
        "#     )\n",
        "\n",
        "#     if np.mean(rewards_batch) > 190:\n",
        "#         print(\"You Win! You may stop training now via KeyboardInterrupt.\")\n"
      ]
    },
    {
      "cell_type": "markdown",
      "metadata": {
        "id": "yeNWKjtsG9zM"
      },
      "source": [
        "# Results"
      ]
    },
    {
      "cell_type": "code",
      "execution_count": null,
      "metadata": {
        "id": "RJwsWl4kG9zM"
      },
      "outputs": [],
      "source": [
        "# Record sessions\n",
        "\n",
        "from gymnasium.wrappers import RecordVideo\n",
        "\n",
        "with RecordVideo(\n",
        "    env=gym.make(\"CartPole-v0\", render_mode=\"rgb_array\"),\n",
        "    video_folder=\"./videos\",\n",
        "    episode_trigger=lambda episode_number: True,\n",
        ") as env_monitor:\n",
        "    sessions = [generate_session(env_monitor, agent) for _ in range(100)]\n"
      ]
    },
    {
      "cell_type": "code",
      "execution_count": null,
      "metadata": {
        "id": "kLPXdME7G9zN"
      },
      "outputs": [],
      "source": [
        "# Show video. This may not work in some setups. If it doesn't\n",
        "# work for you, you can download the videos and view them locally.\n",
        "\n",
        "from pathlib import Path\n",
        "from base64 import b64encode\n",
        "from IPython.display import HTML\n",
        "\n",
        "video_paths = sorted([s for s in Path(\"videos\").iterdir() if s.suffix == \".mp4\"])\n",
        "video_path = video_paths[-1]  # You can also try other indices\n",
        "\n",
        "if \"google.colab\" in sys.modules:\n",
        "    # https://stackoverflow.com/a/57378660/1214547\n",
        "    with video_path.open(\"rb\") as fp:\n",
        "        mp4 = fp.read()\n",
        "    data_url = \"data:video/mp4;base64,\" + b64encode(mp4).decode()\n",
        "else:\n",
        "    data_url = str(video_path)\n",
        "\n",
        "HTML(\n",
        "    \"\"\"\n",
        "<video width=\"640\" height=\"480\" controls>\n",
        "  <source src=\"{}\" type=\"video/mp4\">\n",
        "</video>\n",
        "\"\"\".format(\n",
        "        data_url\n",
        "    )\n",
        ")\n"
      ]
    },
    {
      "cell_type": "markdown",
      "metadata": {
        "id": "6d_3oOQ1G9zN"
      },
      "source": [
        "# Homework part I\n",
        "\n",
        "### Tabular crossentropy method\n",
        "\n",
        "You may have noticed that the taxi problem quickly converges from -100 to a near-optimal score and then descends back into -50/-100. This is in part because the environment has some innate randomness. Namely, the starting points of passenger/driver change from episode to episode.\n",
        "\n",
        "### Tasks\n",
        "- __1.1__ (2 pts) Find out how the algorithm performance changes if you use a different `percentile` and/or `n_sessions`. Provide here some figures so we can see how the hyperparameters influence the performance.\n",
        "- __1.2__ (1 pts) Tune the algorithm to end up with positive average score.\n",
        "\n",
        "It's okay to modify the existing code.\n"
      ]
    },
    {
      "cell_type": "markdown",
      "source": [
        "## Проблема падения качества\n",
        "\n",
        "На финальном этапе обучение происходит постепенная потеря качества стратегии. По всей видимости это связано с тем, что алгоритм в конце перестаёт отбирать лучшие стратегии, а вместо этого начинает забрасывать в элиту только запуски с удачными стартовыми положениями, игнорируя при этом менее удачные старты. Это приводит к тому, что в new_policy неудачные состояния получают равномерное распределение по действиям, и это ухудшает качество."
      ],
      "metadata": {
        "id": "C0dFmTKE0Pwp"
      }
    },
    {
      "cell_type": "markdown",
      "metadata": {
        "id": "L88LySiVG9zN"
      },
      "source": [
        "![image.png](data:image/png;base64,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)\n",
        "\n",
        "(n_sessions = 450, percentile = 50, learning_rate = 0.5)"
      ]
    },
    {
      "cell_type": "markdown",
      "source": [
        "## Решение №1\n",
        "\n",
        "Снизив параметр percentile до 30, получилось избежать(значительно замедлить)падение качетва. А когда была убрана рандомизация стратегий в пользу того, чтобы всегда выбирать лучшее, на тестировании получилось достичь средней награды в 5.888."
      ],
      "metadata": {
        "id": "DF4GAta45i7_"
      }
    },
    {
      "cell_type": "markdown",
      "source": [
        "![image.png](data:image/png;base64,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)\n",
        "\n",
        "(n_sessions = 450, percentile = 30, learning_rate = 0.5)"
      ],
      "metadata": {
        "id": "WYLNv-NL9NHh"
      }
    },
    {
      "cell_type": "markdown",
      "source": [
        "## Решение №2\n",
        "\n",
        "Сделать так, чтобы для тех состояний, которые не попали в elite, стратегия не обновлялась.\n",
        "\n",
        "Результат превосходит ожидания - гипотеза о причине потери качества подтвердилась"
      ],
      "metadata": {
        "id": "N5acUwEU-qUT"
      }
    },
    {
      "cell_type": "markdown",
      "source": [
        "![image.png](data:image/png;base64,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)\n",
        "\n",
        "(n_sessions = 450, percentile = 50, learning_rate = 0.5)\n"
      ],
      "metadata": {
        "id": "v8ik-yM0CaJR"
      }
    },
    {
      "cell_type": "markdown",
      "source": [],
      "metadata": {
        "id": "gpJp_hle6c16"
      }
    },
    {
      "cell_type": "markdown",
      "metadata": {
        "id": "7LpAJc4rG9zN"
      },
      "source": [
        "# Homework part II\n",
        "\n",
        "### Deep crossentropy method\n",
        "\n",
        "By this moment, you should have got enough score on [CartPole-v0](https://gymnasium.farama.org/environments/classic_control/cart_pole/) to consider it solved (see the link). It's time to try something harder.\n",
        "\n",
        "* if you have any trouble with CartPole-v0 and feel stuck, feel free to ask us or your peers for help.\n",
        "\n",
        "### Tasks\n",
        "\n",
        "* __2.1__ (3 pts) Pick one of environments: `MountainCar-v0` or `LunarLander-v2`.\n",
        "  * For MountainCar, get average reward of __at least -150__\n",
        "  * For LunarLander, get average reward of __at least +50__\n",
        "\n",
        "See the tips section below, it's kinda important.\n",
        "__Note:__ If your agent is below the target score, you'll still get some of the points depending on the result, so don't be afraid to submit it.\n",
        "  \n",
        "  \n",
        "* __2.2__ (up to 6 pts) Devise a way to speed up training against the default version\n",
        "  * Obvious improvement: use [`joblib`](https://joblib.readthedocs.io/en/latest/). However, note that you will probably need to spawn a new environment in each of the workers instead of passing it via pickling. (2 pts)\n",
        "  * Try re-using samples from 3-5 last iterations when computing threshold and training. (2 pts)\n",
        "  * Obtain __-100__ at `MountainCar-v0` or __+200__ at `LunarLander-v2` (2 pts). Feel free to experiment with hyperparameters, architectures, schedules etc.\n",
        "  \n",
        "__Please list what you did in Anytask submission form__. This reduces probability that somebody misses something.\n",
        "  \n",
        "  \n",
        "### Tips\n",
        "* Gymnasium pages: [MountainCar](https://gymnasium.farama.org/environments/classic_control/mountain_car/), [LunarLander](https://gymnasium.farama.org/environments/box2d/lunar_lander/)\n",
        "* Sessions for MountainCar may last for 10k+ ticks. Make sure ```t_max``` param is at least 10k.\n",
        " * Also it may be a good idea to cut rewards via \">\" and not \">=\". If 90% of your sessions get reward of -10k and 10% are better, than if you use percentile 20% as threshold, R >= threshold __fails to cut off bad sessions__ while R > threshold works alright.\n",
        "* _issue with gym_: Some versions of gym limit game time by 200 ticks. This will prevent cem training in most cases. Make sure your agent is able to play for the specified __t_max__, and if it isn't, try `env = gym.make(\"MountainCar-v0\").env` or otherwise get rid of TimeLimit wrapper.\n",
        "* If you use old _swig_ lib for LunarLander-v2, you may get an error. See this [issue](https://github.com/openai/gym/issues/100) for solution.\n",
        "* If it doesn't train, it's a good idea to plot reward distribution and record sessions: they may give you some clue. If they don't, call course staff :)\n",
        "* 20-neuron network is probably not enough, feel free to experiment.\n",
        "\n",
        "You may find the following snippet useful:"
      ]
    },
    {
      "cell_type": "code",
      "execution_count": null,
      "metadata": {
        "id": "qcjz-nm_G9zN"
      },
      "outputs": [],
      "source": [
        "def visualize_mountain_car(env, agent):\n",
        "    # Compute policy for all possible x and v (with discretization)\n",
        "    xs = np.linspace(env.min_position, env.max_position, 100)\n",
        "    vs = np.linspace(-env.max_speed, env.max_speed, 100)\n",
        "\n",
        "    grid = np.dstack(np.meshgrid(xs, vs[::-1])).transpose(1, 0, 2)\n",
        "    grid_flat = grid.reshape(len(xs) * len(vs), 2)\n",
        "    probs = (\n",
        "        agent.predict_proba(grid_flat).reshape(len(xs), len(vs), 3).transpose(1, 0, 2)\n",
        "    )\n",
        "\n",
        "    # # The above code is equivalent to the following:\n",
        "    # probs = np.empty((len(vs), len(xs), 3))\n",
        "    # for i, v in enumerate(vs[::-1]):\n",
        "    #     for j, x in enumerate(xs):\n",
        "    #         probs[i, j, :] = agent.predict_proba([[x, v]])[0]\n",
        "\n",
        "    # Draw policy\n",
        "    f, ax = plt.subplots(figsize=(7, 7))\n",
        "    ax.imshow(\n",
        "        probs,\n",
        "        extent=(env.min_position, env.max_position, -env.max_speed, env.max_speed),\n",
        "        aspect=\"auto\",\n",
        "    )\n",
        "    ax.set_title(\"Learned policy: red=left, green=nothing, blue=right\")\n",
        "    ax.set_xlabel(\"position (x)\")\n",
        "    ax.set_ylabel(\"velocity (v)\")\n",
        "\n",
        "    # Sample a trajectory and draw it\n",
        "    states, actions, _ = generate_session(env, agent)\n",
        "    states = np.array(states)\n",
        "    ax.plot(states[:, 0], states[:, 1], color=\"white\")\n",
        "\n",
        "    # Draw every 3rd action from the trajectory\n",
        "    for (x, v), a in zip(states[::3], actions[::3]):\n",
        "        if a == 0:\n",
        "            plt.arrow(x, v, -0.1, 0, color=\"white\", head_length=0.02)\n",
        "        elif a == 2:\n",
        "            plt.arrow(x, v, 0.1, 0, color=\"white\", head_length=0.02)\n",
        "\n",
        "\n",
        "with gym.make(\"MountainCar-v0\", render_mode=\"rgb_arrary\").env as env:\n",
        "    visualize_mountain_car(env, agent)\n"
      ]
    },
    {
      "cell_type": "code",
      "source": [
        "from collections import defaultdict\n",
        "# from catboost import CatBoostClassifier\n",
        "from sklearn.neural_network import MLPClassifier\n",
        "## COMMENT THIS SECTION TO CONTINUE LEARNING\n",
        "lunar_d = {}\n",
        "lunar_d[\"env\"] = gym.make(\"LunarLander-v3\", continuous=False)\n",
        "lunar_d[\"env\"].reset()\n",
        "\n",
        "lunar_d[\"n_actions\"] = lunar_d[\"env\"].action_space.n\n",
        "lunar_d[\"state_dim\"] = lunar_d[\"env\"].observation_space.shape[0]\n",
        "\n",
        "lunar_d[\"n_sessions\"] = 450  # sample this many sessions\n",
        "lunar_d[\"percentile\"] = 70  # discard this percentage of sessions with lowest rewards\n",
        "\n",
        "lunar_d[\"agent\"] = MLPClassifier(\n",
        "    hidden_layer_sizes=(60, 60, 20),\n",
        "    activation=\"relu\",\n",
        ")\n",
        "lunar_d[\"agent\"].partial_fit([lunar_d[\"env\"].reset()[0]] * lunar_d[\"n_actions\"], range(lunar_d[\"n_actions\"]), range(lunar_d[\"n_actions\"]))\n",
        "\n",
        "def after_touching(state, proba):\n",
        "    if state[6] and state[7]:\n",
        "        return np.array([1., 0., 0., 0.])\n",
        "    else:\n",
        "        return proba\n",
        "\n",
        "def addition_action_reward(a):\n",
        "    if a == 1 or a == 3:\n",
        "        return -0.1\n",
        "    elif a == 2:\n",
        "        return -0.5\n",
        "    return 0.0\n",
        "\n",
        "# lunar_d[\"agent\"] = CatBoostClassifier(\n",
        "#     iterations=500,         # Количество деревьев (достаточно для хорошего обучения)\n",
        "#     depth=6,                # Глубина деревьев (оптимальный баланс между сложностью и переобучением)\n",
        "#     learning_rate=0.05,     # Скорость обучения (меньше = стабильнее, но дольше)\n",
        "#     loss_function='MultiClass',  # Классификация нескольких классов (4 действия)\n",
        "#     eval_metric='MultiClass',    # Оценка качества на нескольких классах\n",
        "#     l2_leaf_reg=3,          # L2-регуляризация (борьба с переобучением)\n",
        "#     random_strength=1,      # Случайность при построении деревьев (устойчивость к шуму)\n",
        "#     bagging_temperature=1,   # Бутстрепинг, увеличивает обобщающую способность\n",
        "# )\n",
        "\n",
        "lunar_d[\"log\"] = []\n",
        "buffer = []\n",
        "## END OF SECTION\n"
      ],
      "metadata": {
        "id": "6m3kRw1AplsN"
      },
      "execution_count": 6,
      "outputs": []
    },
    {
      "cell_type": "code",
      "source": [
        "def simple_strategy()"
      ],
      "metadata": {
        "id": "aE4RLGui2BC4"
      },
      "execution_count": null,
      "outputs": []
    },
    {
      "cell_type": "code",
      "source": [
        "lunar_d[\"percentile\"] = 70\n",
        "for i in range(0, 1):\n",
        "    %time sessions = [ generate_session(lunar_d[\"env\"], lunar_d[\"agent\"], 300, lunar_d[\"n_actions\"], after_touching) for _ in range(lunar_d[\"n_sessions\"])]\n",
        "\n",
        "    states_batch, actions_batch, rewards_batch= zip(*sessions)\n",
        "    # print(addition_rewards_batch)\n",
        "\n",
        "    elite_states, elite_actions = select_elites(states_batch, actions_batch, rewards_batch, lunar_d[\"percentile\"])\n",
        "\n",
        "    lunar_d[\"agent\"].partial_fit(elite_states, elite_actions, range(lunar_d[\"n_actions\"]))\n",
        "\n",
        "    show_progress(\n",
        "        rewards_batch, lunar_d[\"log\"], lunar_d[\"percentile\"], reward_range=[-600, 300]\n",
        "    )\n",
        "\n",
        "    if np.mean(rewards_batch) > 200:\n",
        "        print(\"You Win! You may stop training now via KeyboardInterrupt.\")\n"
      ],
      "metadata": {
        "id": "f6Jcyg-8Qgri",
        "outputId": "b98508de-33bb-4034-effb-be4e5a9b6134",
        "colab": {
          "base_uri": "https://localhost:8080/",
          "height": 404
        }
      },
      "execution_count": null,
      "outputs": [
        {
          "output_type": "stream",
          "name": "stdout",
          "text": [
            "mean reward = 236.416, threshold=280.756\n"
          ]
        },
        {
          "output_type": "display_data",
          "data": {
            "text/plain": [
              "<Figure size 800x400 with 2 Axes>"
            ],
            "image/png": "[encoded data removed]"
          },
          "metadata": {}
        },
        {
          "output_type": "stream",
          "name": "stdout",
          "text": [
            "You Win! You may stop training now via KeyboardInterrupt.\n"
          ]
        }
      ]
    },
    {
      "cell_type": "code",
      "source": [
        "from joblib import Parallel, delayed\n",
        "\n",
        "def isolate_session(*args):\n",
        "    env = gym.make(\"LunarLander-v3\", continuous=False)\n",
        "    # print(args)\n",
        "    args = list(args)\n",
        "    args[0] = env\n",
        "    return generate_session(*args)\n",
        "\n",
        "parallel = Parallel(n_jobs=2)\n",
        "\n",
        "max_buffer_size = 3\n",
        "\n",
        "lunar_d[\"percentile\"] = 70\n",
        "for i in range(0, 50):\n",
        "    %time sessions = [ generate_session(lunar_d[\"env\"], lunar_d[\"agent\"], 300, lunar_d[\"n_actions\"], after_touching) for _ in range(lunar_d[\"n_sessions\"])]\n",
        "\n",
        "    states_batch, actions_batch, rewards_batch, _ = zip(*sessions)\n",
        "\n",
        "    elite_states, elite_actions = select_elites(states_batch, actions_batch, rewards_batch, lunar_d[\"percentile\"])\n",
        "\n",
        "    buffer.insert(0, (elite_states, elite_actions))\n",
        "    if len(buffer) > max_buffer_size:\n",
        "        buffer.pop()\n",
        "\n",
        "    buffer_states = []\n",
        "    buffer_actions = []\n",
        "    for states, actions in buffer:\n",
        "        buffer_states.extend(states)\n",
        "        buffer_actions.extend(actions)\n",
        "\n",
        "    lunar_d[\"agent\"].partial_fit(buffer_states, buffer_actions, range(lunar_d[\"n_actions\"]))\n",
        "\n",
        "    show_progress(\n",
        "        rewards_batch, lunar_d[\"log\"], lunar_d[\"percentile\"], reward_range=[-600, 300]\n",
        "    )\n",
        "\n",
        "    if np.mean(rewards_batch) > 200:\n",
        "        print(\"You Win! You may stop training now via KeyboardInterrupt.\")\n"
      ],
      "metadata": {
        "colab": {
          "base_uri": "https://localhost:8080/",
          "height": 560
        },
        "id": "wzp4ibom57eR",
        "outputId": "fd5926a9-0bf6-4f09-9d24-2c8f1cfa9685"
      },
      "execution_count": 69,
      "outputs": [
        {
          "output_type": "error",
          "ename": "AssertionError",
          "evalue": "make sure probabilities are a vector (hint: np.reshape)",
          "traceback": [
            "\u001b[0;31m---------------------------------------------------------------------------\u001b[0m",
            "\u001b[0;31mAssertionError\u001b[0m                            Traceback (most recent call last)",
            "\u001b[0;32m<timed exec>\u001b[0m in \u001b[0;36m<module>\u001b[0;34m\u001b[0m\n",
            "\u001b[0;32m<timed exec>\u001b[0m in \u001b[0;36m<listcomp>\u001b[0;34m(.0)\u001b[0m\n",
            "\u001b[0;32m<ipython-input-68-e00504fd6804>\u001b[0m in \u001b[0;36mgenerate_session\u001b[0;34m(env, agent, t_max, n_actions, strategy_helper, reward_helper)\u001b[0m\n\u001b[1;32m     21\u001b[0m         \u001b[0mprobs\u001b[0m \u001b[0;34m=\u001b[0m \u001b[0mstrategy_helper\u001b[0m\u001b[0;34m(\u001b[0m\u001b[0ms\u001b[0m\u001b[0;34m,\u001b[0m \u001b[0mprobs\u001b[0m\u001b[0;34m)\u001b[0m\u001b[0;34m\u001b[0m\u001b[0;34m\u001b[0m\u001b[0m\n\u001b[1;32m     22\u001b[0m \u001b[0;34m\u001b[0m\u001b[0m\n\u001b[0;32m---> 23\u001b[0;31m         \u001b[0;32massert\u001b[0m \u001b[0mprobs\u001b[0m\u001b[0;34m.\u001b[0m\u001b[0mshape\u001b[0m \u001b[0;34m==\u001b[0m \u001b[0;34m(\u001b[0m\u001b[0menv\u001b[0m\u001b[0;34m.\u001b[0m\u001b[0maction_space\u001b[0m\u001b[0;34m.\u001b[0m\u001b[0mn\u001b[0m\u001b[0;34m,\u001b[0m\u001b[0;34m)\u001b[0m\u001b[0;34m,\u001b[0m \u001b[0;34m\"make sure probabilities are a vector (hint: np.reshape)\"\u001b[0m\u001b[0;34m\u001b[0m\u001b[0;34m\u001b[0m\u001b[0m\n\u001b[0m\u001b[1;32m     24\u001b[0m \u001b[0;34m\u001b[0m\u001b[0m\n\u001b[1;32m     25\u001b[0m         \u001b[0;31m# use the probabilities you predicted to pick an action\u001b[0m\u001b[0;34m\u001b[0m\u001b[0;34m\u001b[0m\u001b[0m\n",
            "\u001b[0;31mAssertionError\u001b[0m: make sure probabilities are a vector (hint: np.reshape)"
          ]
        },
        {
          "output_type": "error",
          "ename": "ValueError",
          "evalue": "not enough values to unpack (expected 4, got 3)",
          "traceback": [
            "\u001b[0;31m---------------------------------------------------------------------------\u001b[0m",
            "\u001b[0;31mValueError\u001b[0m                                Traceback (most recent call last)",
            "\u001b[0;32m<ipython-input-69-4d6334486ae0>\u001b[0m in \u001b[0;36m<cell line: 0>\u001b[0;34m()\u001b[0m\n\u001b[1;32m     16\u001b[0m     \u001b[0mget_ipython\u001b[0m\u001b[0;34m(\u001b[0m\u001b[0;34m)\u001b[0m\u001b[0;34m.\u001b[0m\u001b[0mrun_line_magic\u001b[0m\u001b[0;34m(\u001b[0m\u001b[0;34m'time'\u001b[0m\u001b[0;34m,\u001b[0m \u001b[0;34m'sessions = [ generate_session(lunar_d[\"env\"], lunar_d[\"agent\"], 300, lunar_d[\"n_actions\"], after_touching) for _ in range(lunar_d[\"n_sessions\"])]'\u001b[0m\u001b[0;34m)\u001b[0m\u001b[0;34m\u001b[0m\u001b[0;34m\u001b[0m\u001b[0m\n\u001b[1;32m     17\u001b[0m \u001b[0;34m\u001b[0m\u001b[0m\n\u001b[0;32m---> 18\u001b[0;31m     \u001b[0mstates_batch\u001b[0m\u001b[0;34m,\u001b[0m \u001b[0mactions_batch\u001b[0m\u001b[0;34m,\u001b[0m \u001b[0mrewards_batch\u001b[0m\u001b[0;34m,\u001b[0m \u001b[0m_\u001b[0m \u001b[0;34m=\u001b[0m \u001b[0mzip\u001b[0m\u001b[0;34m(\u001b[0m\u001b[0;34m*\u001b[0m\u001b[0msessions\u001b[0m\u001b[0;34m)\u001b[0m\u001b[0;34m\u001b[0m\u001b[0;34m\u001b[0m\u001b[0m\n\u001b[0m\u001b[1;32m     19\u001b[0m \u001b[0;34m\u001b[0m\u001b[0m\n\u001b[1;32m     20\u001b[0m     \u001b[0melite_states\u001b[0m\u001b[0;34m,\u001b[0m \u001b[0melite_actions\u001b[0m \u001b[0;34m=\u001b[0m \u001b[0mselect_elites\u001b[0m\u001b[0;34m(\u001b[0m\u001b[0mstates_batch\u001b[0m\u001b[0;34m,\u001b[0m \u001b[0mactions_batch\u001b[0m\u001b[0;34m,\u001b[0m \u001b[0mrewards_batch\u001b[0m\u001b[0;34m,\u001b[0m \u001b[0mlunar_d\u001b[0m\u001b[0;34m[\u001b[0m\u001b[0;34m\"percentile\"\u001b[0m\u001b[0;34m]\u001b[0m\u001b[0;34m)\u001b[0m\u001b[0;34m\u001b[0m\u001b[0;34m\u001b[0m\u001b[0m\n",
            "\u001b[0;31mValueError\u001b[0m: not enough values to unpack (expected 4, got 3)"
          ]
        }
      ]
    },
    {
      "cell_type": "code",
      "source": [
        "from collections import defaultdict\n",
        "import torch\n",
        "from torch import nn\n",
        "\n",
        "\n",
        "\n",
        "## COMMENT THIS SECTION TO CONTINUE LEARNING\n",
        "car_d = {}\n",
        "car_d[\"env\"] = gym.make(\"MountainCar-v0\").env\n",
        "# car_d[\"env\"].env.unwrapped.TimeLimit = 10000\n",
        "car_d[\"env\"].reset()\n",
        "\n",
        "car_d[\"n_actions\"] = car_d[\"env\"].action_space.n\n",
        "car_d[\"state_dim\"] = car_d[\"env\"].observation_space.shape[0]\n",
        "\n",
        "car_d[\"n_sessions\"] = 100  # sample this many sessions\n",
        "car_d[\"percentile\"] = 70  # discard this percentage of sessions with lowest rewards\n",
        "\n",
        "car_d[\"agent\"] = MLPClassifier(\n",
        "    hidden_layer_sizes=(60, 60, 20),\n",
        "    activation=\"relu\",\n",
        ")\n",
        "car_d[\"log\"] = []\n",
        "\n",
        "car_d[\"agent\"].partial_fit([car_d[\"env\"].reset()[0]] * car_d[\"n_actions\"], range(car_d[\"n_actions\"]), range(car_d[\"n_actions\"]))\n",
        "\n",
        "def encourage_speed(state):\n",
        "    return abs(state[1])*10\n"
      ],
      "metadata": {
        "colab": {
          "base_uri": "https://localhost:8080/",
          "height": 228
        },
        "id": "cTAKX2xTxqz8",
        "outputId": "ce699b86-1b31-4e74-e5ff-628b9b2aceb4"
      },
      "execution_count": 7,
      "outputs": [
        {
          "output_type": "error",
          "ename": "NameError",
          "evalue": "name 'MLPClassifier' is not defined",
          "traceback": [
            "\u001b[0;31m---------------------------------------------------------------------------\u001b[0m",
            "\u001b[0;31mNameError\u001b[0m                                 Traceback (most recent call last)",
            "\u001b[0;32m<ipython-input-7-6c9faf14a791>\u001b[0m in \u001b[0;36m<cell line: 0>\u001b[0;34m()\u001b[0m\n\u001b[1;32m     17\u001b[0m \u001b[0mcar_d\u001b[0m\u001b[0;34m[\u001b[0m\u001b[0;34m\"percentile\"\u001b[0m\u001b[0;34m]\u001b[0m \u001b[0;34m=\u001b[0m \u001b[0;36m70\u001b[0m  \u001b[0;31m# discard this percentage of sessions with lowest rewards\u001b[0m\u001b[0;34m\u001b[0m\u001b[0;34m\u001b[0m\u001b[0m\n\u001b[1;32m     18\u001b[0m \u001b[0;34m\u001b[0m\u001b[0m\n\u001b[0;32m---> 19\u001b[0;31m car_d[\"agent\"] = MLPClassifier(\n\u001b[0m\u001b[1;32m     20\u001b[0m     \u001b[0mhidden_layer_sizes\u001b[0m\u001b[0;34m=\u001b[0m\u001b[0;34m(\u001b[0m\u001b[0;36m60\u001b[0m\u001b[0;34m,\u001b[0m \u001b[0;36m60\u001b[0m\u001b[0;34m,\u001b[0m \u001b[0;36m20\u001b[0m\u001b[0;34m)\u001b[0m\u001b[0;34m,\u001b[0m\u001b[0;34m\u001b[0m\u001b[0;34m\u001b[0m\u001b[0m\n\u001b[1;32m     21\u001b[0m     \u001b[0mactivation\u001b[0m\u001b[0;34m=\u001b[0m\u001b[0;34m\"relu\"\u001b[0m\u001b[0;34m,\u001b[0m\u001b[0;34m\u001b[0m\u001b[0;34m\u001b[0m\u001b[0m\n",
            "\u001b[0;31mNameError\u001b[0m: name 'MLPClassifier' is not defined"
          ]
        }
      ]
    },
    {
      "cell_type": "code",
      "source": [
        "# import queue\n",
        "\n",
        "# max_buffer_size = 3\n",
        "\n",
        "car_d[\"percentile\"] = 90\n",
        "for i in range(0, 10):\n",
        "    %time sessions = [ generate_session(car_d[\"env\"], car_d[\"agent\"], 4000, car_d[\"n_actions\"]) for _ in range(car_d[\"n_sessions\"])]\n",
        "    # print(sessions[0])\n",
        "    # print(sessions[1])\n",
        "    states_batch, actions_batch, rewards_batch, addition_rewards_batch= zip(*sessions)\n",
        "    # print(states_batch[0])\n",
        "    # print(actions_batch[0])\n",
        "    # print(rewards_batch[0])\n",
        "    # print(addition_rewards_batch)\n",
        "    # break\n",
        "    # print(rewards_batch[:4])\n",
        "    # print(addition_rewards_batch[:4])\n",
        "    total_rewards = np.array(rewards_batch) + np.array(addition_rewards_batch)\n",
        "    # tresh = np.percentile(total_rewards, car_d[\"percentile\"])\n",
        "    # print(rewards_batch.shape)\n",
        "    # print(addition_rewards_batch.shape)\n",
        "    # print(rewards_batch + addition_rewards_batch)\n",
        "    # print(f\"tresh = {tresh}\")\n",
        "    # print( > tresh).sum())\n",
        "    elite_states, elite_actions = select_elites(states_batch, actions_batch, total_rewards, car_d[\"percentile\"], great_or_equal=False)\n",
        "    # print(elite_states[0])\n",
        "    # print(elite_actions[0])\n",
        "    # break\n",
        "\n",
        "    # buffer.insert(0, (elite_states, elite_actions))\n",
        "    # if len(buffer) > max_buffer_size:\n",
        "    #     buffer.pop()\n",
        "\n",
        "    # buffer_states = []\n",
        "    # buffer_actions = []\n",
        "    # print(buffer_states[:4])\n",
        "    # print(buffer_actions[:4])\n",
        "    # for states, actions in buffer:\n",
        "    #     buffer_states.extend(states)\n",
        "    #     buffer_actions.extend(actions)\n",
        "    # print(elite_states[:3])\n",
        "    # print(elite_actions[:3])\n",
        "    # break\n",
        "\n",
        "    car_d[\"agent\"].partial_fit(elite_states, elite_actions, range(car_d[\"n_actions\"]))\n",
        "\n",
        "    show_progress(\n",
        "        rewards_batch, car_d[\"log\"], car_d[\"percentile\"], reward_range=[-600, 300]\n",
        "    )\n",
        "\n",
        "    if np.mean(rewards_batch) > -100:\n",
        "        print(\"You Win! You may stop training now via KeyboardInterrupt.\")\n"
      ],
      "metadata": {
        "colab": {
          "base_uri": "https://localhost:8080/",
          "height": 355
        },
        "id": "w7cPex-q0AWl",
        "outputId": "23f71cc4-1b9f-4fe3-ff8c-ba67fdf33011"
      },
      "execution_count": 77,
      "outputs": [
        {
          "output_type": "stream",
          "name": "stdout",
          "text": [
            "mean reward = -142.367, threshold=-113.000\n"
          ]
        },
        {
          "output_type": "display_data",
          "data": {
            "text/plain": [
              "<Figure size 800x400 with 2 Axes>"
            ],
            "image/png": "[encoded data removed]"
          },
          "metadata": {}
        }
      ]
    },
    {
      "cell_type": "code",
      "source": [
        " env = gym.make(\"LunarLander-v3\", continuous=True)\n",
        "\n",
        " env.reset()\n",
        "\n",
        " env.step(np.array([1.0, 1.0]))"
      ],
      "metadata": {
        "colab": {
          "base_uri": "https://localhost:8080/"
        },
        "id": "i3h1Nud63ZBq",
        "outputId": "217b5fc3-58b8-4a2e-b6b9-545782684941"
      },
      "execution_count": 80,
      "outputs": [
        {
          "output_type": "execute_result",
          "data": {
            "text/plain": [
              "(array([ 0.00643778,  1.3863488 ,  0.33788115, -0.5280157 , -0.00885373,\n",
              "        -0.10509664,  0.        ,  0.        ], dtype=float32),\n",
              " 2.2596634048634727,\n",
              " False,\n",
              " False,\n",
              " {})"
            ]
          },
          "metadata": {},
          "execution_count": 80
        }
      ]
    },
    {
      "cell_type": "code",
      "source": [
        "from collections import defaultdict\n",
        "# from catboost import CatBoostClassifier\n",
        "from sklearn.neural_network import MLPRegressor\n",
        "import torch\n",
        "from torch import nn\n",
        "\n",
        "## COMMENT THIS SECTION TO CONTINUE LEARNING\n",
        "\n",
        "# class Agent(nn.Module):\n",
        "#     def __init__(self):\n",
        "#         super(Agent, self).__init__()\n",
        "#         self.lays = nn.Sequential(\n",
        "#             nn.Linear(8, 30),\n",
        "#             nn.ReLU(),\n",
        "#             nn.Linear(30, 30),\n",
        "#             nn.Dropout(0.15),\n",
        "#             nn.ReLU(),\n",
        "#             nn.Linear(30, 15),\n",
        "#             nn.Dropout(0.15),\n",
        "#             nn.ReLU(),\n",
        "#             nn.Linear(15, 2)\n",
        "#         )\n",
        "#         self.main_pred = nn.Tanh()\n",
        "\n",
        "#         self.lateral_pred = nn.Tanh()\n",
        "#         self.loss = nn.MSELoss()\n",
        "\n",
        "#     def forward(self, X):\n",
        "#         lays = self.lays(X)\n",
        "#         # print(lays)\n",
        "#         y = torch.hstack((self.main_pred(lays[:, 0]).view(-1, 1), self.lateral_pred(lays[:, 1]).view(-1, 1)))\n",
        "#         assert y.shape == (X.shape[0], 2), f\"y.shape {y.shape}. {self.main_pred(lays[:, 0]).shape}, {self.lateral_pred(lays[:, 1])}\"\n",
        "#         return y\n",
        "\n",
        "class VerticalAgent(nn.Module):\n",
        "    def __init__(self):\n",
        "        super(VerticalAgent, self).__init__()\n",
        "        self.layers = nn.Sequential(\n",
        "            nn.Linear(8, 20),\n",
        "            nn.ReLU(),\n",
        "            nn.Linear(20, 10),\n",
        "            nn.Dropout(0.1),\n",
        "            nn.ReLU(),\n",
        "            nn.Linear(10, 1),  # Один выход - только боковой двигатель\n",
        "        )\n",
        "        self.main_pred = nn.Tanh()  # Ограничение [0, 1]\n",
        "        self.loss = nn.HuberLoss()\n",
        "\n",
        "    def forward(self, X):\n",
        "        return self.main_pred(self.layers(X))\n",
        "\n",
        "\n",
        "class LateralAgent(nn.Module):\n",
        "    def __init__(self):\n",
        "        super(LateralAgent, self).__init__()\n",
        "        self.layers = nn.Sequential(\n",
        "            nn.Linear(8, 20),\n",
        "            nn.ReLU(),\n",
        "            nn.Linear(20, 10),\n",
        "            nn.Dropout(0.1),\n",
        "            nn.ReLU(),\n",
        "            nn.Linear(10, 1),  # Один выход - только боковой двигатель\n",
        "        )\n",
        "        self.lateral_pred = nn.Tanh()  # Ограничение [-1, 1]\n",
        "        self.loss = nn.HuberLoss()\n",
        "\n",
        "    def forward(self, X):\n",
        "        return self.lateral_pred(self.layers(X))\n",
        "\n",
        "\n",
        "# Использование\n",
        "\n",
        "lunar_c = {}\n",
        "lunar_c[\"vertical_agent\"] = VerticalAgent()\n",
        "lunar_c[\"lateral_agent\"] = LateralAgent()\n",
        "\n",
        "\n",
        "# lunar_c[\"env\"] = gym.make(\"LunarLander-v3\", continuous=True)\n",
        "lunar_c[\"env\"] = gym.make(\"LunarLanderContinuous-v3\")\n",
        "lunar_c[\"env\"].reset()\n",
        "\n",
        "lunar_c[\"state_dim\"] = lunar_c[\"env\"].observation_space.shape[0]\n",
        "\n",
        "lunar_c[\"n_sessions\"] = 450  # sample this many sessions\n",
        "\n",
        "# lunar_c[\"agent\"] = Agent()\n",
        "\n",
        "\n",
        "lunar_c[\"log\"] = []\n",
        "buffer = []\n",
        "\n",
        "def after_touching(state, proba):\n",
        "    if state[6] and state[7]:\n",
        "        return np.array([0., 0.])\n",
        "    else:\n",
        "        return proba\n",
        "\n",
        "lunar_c[\"action_noise_std\"] = 1.0\n",
        "\n",
        "def add_noise_to_action(state, y):\n",
        "    noise = np.random.randn(2)\n",
        "    noise[0] = noise[0]*lunar_c[\"action_noise_std\"]\n",
        "    noise[1] = noise[1]*lunar_c[\"action_noise_std\"]*2\n",
        "    y = y + noise\n",
        "    # y = np.clip(y, [-1., -1.], [1., 1.])\n",
        "    return y\n",
        "\n",
        "def strategy_helper(state, y):\n",
        "    y = add_noise_to_action(state, y)\n",
        "    y = after_touching(state, y)\n",
        "    return y\n",
        "\n",
        "## END OF SECTION\n",
        "\n",
        "def generate_continuous_session(env, agent_main, agent_lateral, t_max, strategy_helper=lambda state, proba: proba):\n",
        "    states, actions = [], []\n",
        "    total_reward = 0\n",
        "    # addition_reward = 0\n",
        "\n",
        "    s, _ = env.reset()\n",
        "\n",
        "    for t in range(t_max):\n",
        "        # print(s)\n",
        "        # print(torch.tensor([s]))\n",
        "        main = agent_main.forward(torch.tensor([s]))[0][0]\n",
        "        lateral = agent_lateral.forward(torch.tensor([s]))[0][0]\n",
        "        y = strategy_helper(s, [main, lateral])\n",
        "\n",
        "        new_s, r, terminated, truncated, _ = env.step(np.array(y))\n",
        "\n",
        "        # record sessions like you did before\n",
        "        states.append(s)\n",
        "        actions.append(torch.tensor(y))\n",
        "        total_reward += r\n",
        "        # addition_reward += reward_helper(s)\n",
        "\n",
        "        s = new_s\n",
        "        if terminated or truncated:\n",
        "            break\n",
        "    return states, actions, total_reward #, addition_reward\n",
        "\n",
        "\n",
        "def isolate_session(*args, **kwargs):\n",
        "    env = gym.make(\"LunarLanderContinuous-v3\")\n",
        "    # print(args)\n",
        "    args = list(args)\n",
        "    args[0] = env\n",
        "\n",
        "    with torch.no_grad():\n",
        "        sess = generate_continuous_session(*args, **kwargs)\n",
        "    return sess\n",
        "\n",
        "\n",
        "lunar_c[\"action_noise_std\"] = 0.2"
      ],
      "metadata": {
        "id": "YrSsIBTZ1mOX"
      },
      "execution_count": 91,
      "outputs": []
    },
    {
      "cell_type": "code",
      "source": [
        "import numpy as np\n",
        "\n",
        "lunar_c[\"percentile_min\"] = 70\n",
        "lunar_c[\"percentile_max\"] = 90\n",
        "lunar_c[\"percentile_period\"] = 20\n",
        "def percentile_sheduler(epoch):\n",
        "    a = lunar_c[\"percentile_max\"]\n",
        "    b = lunar_c[\"percentile_min\"]\n",
        "    p = lunar_c[\"percentile_period\"]\n",
        "    return -(a-b)/2*np.cos(epoch/p*2*np.pi) + (a-b)/2 + b\n"
      ],
      "metadata": {
        "id": "I2iCBSC1YrH0"
      },
      "execution_count": 93,
      "outputs": []
    },
    {
      "cell_type": "code",
      "source": [
        "percentile_sheduler(21)"
      ],
      "metadata": {
        "id": "zsCxgQsqAgLa",
        "outputId": "37463372-9d8c-4b85-a425-095b6fc13f4f",
        "colab": {
          "base_uri": "https://localhost:8080/"
        }
      },
      "execution_count": 50,
      "outputs": [
        {
          "output_type": "execute_result",
          "data": {
            "text/plain": [
              "50.97886967409693"
            ]
          },
          "metadata": {},
          "execution_count": 50
        }
      ]
    },
    {
      "cell_type": "code",
      "source": [
        "s, _ = lunar_c[\"env\"].reset()\n",
        "s"
      ],
      "metadata": {
        "colab": {
          "base_uri": "https://localhost:8080/"
        },
        "id": "frxwCvdz7qsv",
        "outputId": "3ebd5b2a-6006-43f9-b62b-e44ab11c60fa"
      },
      "execution_count": 244,
      "outputs": [
        {
          "output_type": "execute_result",
          "data": {
            "text/plain": [
              "array([-0.00307646,  1.4153188 , -0.31162277,  0.1954992 ,  0.00357159,\n",
              "        0.07058725,  0.        ,  0.        ], dtype=float32)"
            ]
          },
          "metadata": {},
          "execution_count": 244
        }
      ]
    },
    {
      "cell_type": "code",
      "source": [
        "from joblib import Parallel, delayed\n",
        "\n",
        "# max_buffer_size = 1\n",
        "# lr = 0.005\n",
        "lunar_c[\"vertical_agent\"].train()\n",
        "lunar_c[\"lateral_agent\"].train()\n",
        "main_opt = torch.optim.Adam(lunar_c[\"vertical_agent\"].parameters())\n",
        "lateral_opt = torch.optim.Adam(lunar_c[\"lateral_agent\"].parameters())\n",
        "step = 0\n",
        "\n",
        "parallel = Parallel(n_jobs=2)\n",
        "max_buffer_size = 3\n",
        "lunar_c[\"action_noise_std\"] = 0.2\n",
        "\n",
        "for i in range(0, 20):\n",
        "\n",
        "    sessions = parallel(delayed(isolate_session)(lunar_c[\"env\"],\n",
        "                                                     lunar_c[\"vertical_agent\"],\n",
        "                                                     lunar_c[\"lateral_agent\"],\n",
        "                                                     500,\n",
        "                                                     strategy_helper=strategy_helper) for _ in range(lunar_c[\"n_sessions\"]))\n",
        "\n",
        "    states_batch, actions_batch, rewards_batch = zip(*sessions)\n",
        "    # print(addition_rewards_batch)\n",
        "\n",
        "    percentile = percentile_sheduler(len(lunar_c[\"log\"]))\n",
        "    elite_states, elite_actions = select_elites(states_batch, actions_batch, rewards_batch, percentile)\n",
        "\n",
        "    # print(elite_states[0])\n",
        "\n",
        "    # buffer.insert(0, (elite_states, elite_actions))\n",
        "    # if len(buffer) > max_buffer_size:\n",
        "    #     buffer.pop()\n",
        "\n",
        "    # buffer_states = []\n",
        "    # buffer_actions = []\n",
        "    # for states, actions in buffer:\n",
        "    #     buffer_states.extend(states)\n",
        "    #     buffer_actions.extend(actions)\n",
        "\n",
        "    lunar_c[\"vertical_agent\"].zero_grad()\n",
        "    lunar_c[\"lateral_agent\"].zero_grad()\n",
        "    main = lunar_c[\"vertical_agent\"].forward(torch.tensor(elite_states))\n",
        "    lateral = lunar_c[\"lateral_agent\"].forward(torch.tensor(elite_states))\n",
        "    # print(y.shape)\n",
        "    # print(buffer_actions)\n",
        "    elite_actions = torch.vstack(elite_actions)\n",
        "    elite_actions = elite_actions.float()\n",
        "    # print(y.dtype)\n",
        "\n",
        "    loss_main = lunar_c[\"vertical_agent\"].loss(main, elite_actions[:,0])\n",
        "    loss_main.backward()\n",
        "    main_opt.step()\n",
        "\n",
        "    loss_lateral = lunar_c[\"lateral_agent\"].loss(lateral, elite_actions[:,1])\n",
        "    loss_lateral.backward()\n",
        "    lateral_opt.step()\n",
        "\n",
        "    lunar_c[\"action_noise_std\"] += step\n",
        "    if lunar_c[\"action_noise_std\"] < 0.02:\n",
        "        # step = -step\n",
        "        lunar_c[\"action_noise_std\"] = 0.02\n",
        "\n",
        "    # if lunar_c[\"action_noise_std\"] > 0.3:\n",
        "    #     step = -step\n",
        "\n",
        "    show_progress(\n",
        "        rewards_batch, lunar_c[\"log\"], percentile, reward_range=[-600, 300]\n",
        "    )\n",
        "    if np.mean(rewards_batch) > 200:\n",
        "        print(\"You Win! You may stop training now via KeyboardInterrupt.\")\n"
      ],
      "metadata": {
        "colab": {
          "base_uri": "https://localhost:8080/",
          "height": 1000
        },
        "id": "901XU1pby28v",
        "outputId": "d329a808-92a9-43f6-e88e-0439bfb6e7e3"
      },
      "execution_count": 113,
      "outputs": [
        {
          "output_type": "stream",
          "name": "stderr",
          "text": [
            "Exception ignored in: <function RecordVideo.__del__ at 0x7ef43c971bc0>\n",
            "Traceback (most recent call last):\n",
            "  File \"/usr/local/lib/python3.11/dist-packages/gymnasium/wrappers/rendering.py\", line 415, in __del__\n",
            "    if len(self.recorded_frames) > 0:\n",
            "           ^^^^^^^^^^^^^^^^^^^^\n",
            "AttributeError: 'RecordVideo' object has no attribute 'recorded_frames'\n",
            "Exception ignored in: <function RecordVideo.__del__ at 0x7ef43c971bc0>\n",
            "Traceback (most recent call last):\n",
            "  File \"/usr/local/lib/python3.11/dist-packages/gymnasium/wrappers/rendering.py\", line 415, in __del__\n",
            "    if len(self.recorded_frames) > 0:\n",
            "           ^^^^^^^^^^^^^^^^^^^^\n",
            "AttributeError: 'RecordVideo' object has no attribute 'recorded_frames'\n",
            "Exception ignored in: <function RecordVideo.__del__ at 0x7ef43c971bc0>\n",
            "Traceback (most recent call last):\n",
            "  File \"/usr/local/lib/python3.11/dist-packages/gymnasium/wrappers/rendering.py\", line 415, in __del__\n",
            "    if len(self.recorded_frames) > 0:\n",
            "           ^^^^^^^^^^^^^^^^^^^^\n",
            "AttributeError: 'RecordVideo' object has no attribute 'recorded_frames'\n",
            "Exception ignored in: <function RecordVideo.__del__ at 0x7ef43c971bc0>\n",
            "Traceback (most recent call last):\n",
            "  File \"/usr/local/lib/python3.11/dist-packages/gymnasium/wrappers/rendering.py\", line 415, in __del__\n",
            "    if len(self.recorded_frames) > 0:\n",
            "           ^^^^^^^^^^^^^^^^^^^^\n",
            "AttributeError: 'RecordVideo' object has no attribute 'recorded_frames'\n",
            "Exception ignored in: <function RecordVideo.__del__ at 0x7ef43c971bc0>\n",
            "Traceback (most recent call last):\n",
            "  File \"/usr/local/lib/python3.11/dist-packages/gymnasium/wrappers/rendering.py\", line 415, in __del__\n",
            "    if len(self.recorded_frames) > 0:\n",
            "           ^^^^^^^^^^^^^^^^^^^^\n",
            "AttributeError: 'RecordVideo' object has no attribute 'recorded_frames'\n"
          ]
        },
        {
          "output_type": "error",
          "ename": "VersionNotFound",
          "evalue": "Environment version `v3` for environment `LunarLanderContinuous` doesn't exist. It provides versioned environments: [ `v2` ].",
          "traceback": [
            "\u001b[0;31m---------------------------------------------------------------------------\u001b[0m",
            "\u001b[0;31m_RemoteTraceback\u001b[0m                          Traceback (most recent call last)",
            "\u001b[0;31m_RemoteTraceback\u001b[0m: \n\"\"\"\nTraceback (most recent call last):\n  File \"/usr/local/lib/python3.11/dist-packages/joblib/externals/loky/process_executor.py\", line 463, in _process_worker\n    r = call_item()\n        ^^^^^^^^^^^\n  File \"/usr/local/lib/python3.11/dist-packages/joblib/externals/loky/process_executor.py\", line 291, in __call__\n    return self.fn(*self.args, **self.kwargs)\n           ^^^^^^^^^^^^^^^^^^^^^^^^^^^^^^^^^^\n  File \"/usr/local/lib/python3.11/dist-packages/joblib/parallel.py\", line 598, in __call__\n    return [func(*args, **kwargs)\n           ^^^^^^^^^^^^^^^^^^^^^^\n  File \"/usr/local/lib/python3.11/dist-packages/joblib/parallel.py\", line 598, in <listcomp>\n    return [func(*args, **kwargs)\n            ^^^^^^^^^^^^^^^^^^^^^\n  File \"<ipython-input-91-5f1bfc0aef22>\", line 144, in isolate_session\n  File \"/usr/local/lib/python3.11/dist-packages/gym/envs/registration.py\", line 607, in make\n    _check_version_exists(ns, name, version)\n  File \"/usr/local/lib/python3.11/dist-packages/gym/envs/registration.py\", line 263, in _check_version_exists\n    raise error.VersionNotFound(message)\ngym.error.VersionNotFound: Environment version `v3` for environment `LunarLanderContinuous` doesn't exist. It provides versioned environments: [ `v2` ].\n\"\"\"",
            "\nThe above exception was the direct cause of the following exception:\n",
            "\u001b[0;31mVersionNotFound\u001b[0m                           Traceback (most recent call last)",
            "\u001b[0;32m<ipython-input-113-8f622a08e820>\u001b[0m in \u001b[0;36m<cell line: 0>\u001b[0;34m()\u001b[0m\n\u001b[1;32m     15\u001b[0m \u001b[0;32mfor\u001b[0m \u001b[0mi\u001b[0m \u001b[0;32min\u001b[0m \u001b[0mrange\u001b[0m\u001b[0;34m(\u001b[0m\u001b[0;36m0\u001b[0m\u001b[0;34m,\u001b[0m \u001b[0;36m20\u001b[0m\u001b[0;34m)\u001b[0m\u001b[0;34m:\u001b[0m\u001b[0;34m\u001b[0m\u001b[0;34m\u001b[0m\u001b[0m\n\u001b[1;32m     16\u001b[0m \u001b[0;34m\u001b[0m\u001b[0m\n\u001b[0;32m---> 17\u001b[0;31m     sessions = parallel(delayed(isolate_session)(lunar_c[\"env\"],\n\u001b[0m\u001b[1;32m     18\u001b[0m                                                      \u001b[0mlunar_c\u001b[0m\u001b[0;34m[\u001b[0m\u001b[0;34m\"vertical_agent\"\u001b[0m\u001b[0;34m]\u001b[0m\u001b[0;34m,\u001b[0m\u001b[0;34m\u001b[0m\u001b[0;34m\u001b[0m\u001b[0m\n\u001b[1;32m     19\u001b[0m                                                      \u001b[0mlunar_c\u001b[0m\u001b[0;34m[\u001b[0m\u001b[0;34m\"lateral_agent\"\u001b[0m\u001b[0;34m]\u001b[0m\u001b[0;34m,\u001b[0m\u001b[0;34m\u001b[0m\u001b[0;34m\u001b[0m\u001b[0m\n",
            "\u001b[0;32m/usr/local/lib/python3.11/dist-packages/joblib/parallel.py\u001b[0m in \u001b[0;36m__call__\u001b[0;34m(self, iterable)\u001b[0m\n\u001b[1;32m   2005\u001b[0m         \u001b[0mnext\u001b[0m\u001b[0;34m(\u001b[0m\u001b[0moutput\u001b[0m\u001b[0;34m)\u001b[0m\u001b[0;34m\u001b[0m\u001b[0;34m\u001b[0m\u001b[0m\n\u001b[1;32m   2006\u001b[0m \u001b[0;34m\u001b[0m\u001b[0m\n\u001b[0;32m-> 2007\u001b[0;31m         \u001b[0;32mreturn\u001b[0m \u001b[0moutput\u001b[0m \u001b[0;32mif\u001b[0m \u001b[0mself\u001b[0m\u001b[0;34m.\u001b[0m\u001b[0mreturn_generator\u001b[0m \u001b[0;32melse\u001b[0m \u001b[0mlist\u001b[0m\u001b[0;34m(\u001b[0m\u001b[0moutput\u001b[0m\u001b[0;34m)\u001b[0m\u001b[0;34m\u001b[0m\u001b[0;34m\u001b[0m\u001b[0m\n\u001b[0m\u001b[1;32m   2008\u001b[0m \u001b[0;34m\u001b[0m\u001b[0m\n\u001b[1;32m   2009\u001b[0m     \u001b[0;32mdef\u001b[0m \u001b[0m__repr__\u001b[0m\u001b[0;34m(\u001b[0m\u001b[0mself\u001b[0m\u001b[0;34m)\u001b[0m\u001b[0;34m:\u001b[0m\u001b[0;34m\u001b[0m\u001b[0;34m\u001b[0m\u001b[0m\n",
            "\u001b[0;32m/usr/local/lib/python3.11/dist-packages/joblib/parallel.py\u001b[0m in \u001b[0;36m_get_outputs\u001b[0;34m(self, iterator, pre_dispatch)\u001b[0m\n\u001b[1;32m   1648\u001b[0m \u001b[0;34m\u001b[0m\u001b[0m\n\u001b[1;32m   1649\u001b[0m             \u001b[0;32mwith\u001b[0m \u001b[0mself\u001b[0m\u001b[0;34m.\u001b[0m\u001b[0m_backend\u001b[0m\u001b[0;34m.\u001b[0m\u001b[0mretrieval_context\u001b[0m\u001b[0;34m(\u001b[0m\u001b[0;34m)\u001b[0m\u001b[0;34m:\u001b[0m\u001b[0;34m\u001b[0m\u001b[0;34m\u001b[0m\u001b[0m\n\u001b[0;32m-> 1650\u001b[0;31m                 \u001b[0;32myield\u001b[0m \u001b[0;32mfrom\u001b[0m \u001b[0mself\u001b[0m\u001b[0;34m.\u001b[0m\u001b[0m_retrieve\u001b[0m\u001b[0;34m(\u001b[0m\u001b[0;34m)\u001b[0m\u001b[0;34m\u001b[0m\u001b[0;34m\u001b[0m\u001b[0m\n\u001b[0m\u001b[1;32m   1651\u001b[0m \u001b[0;34m\u001b[0m\u001b[0m\n\u001b[1;32m   1652\u001b[0m         \u001b[0;32mexcept\u001b[0m \u001b[0mGeneratorExit\u001b[0m\u001b[0;34m:\u001b[0m\u001b[0;34m\u001b[0m\u001b[0;34m\u001b[0m\u001b[0m\n",
            "\u001b[0;32m/usr/local/lib/python3.11/dist-packages/joblib/parallel.py\u001b[0m in \u001b[0;36m_retrieve\u001b[0;34m(self)\u001b[0m\n\u001b[1;32m   1752\u001b[0m             \u001b[0;31m# worker traceback.\u001b[0m\u001b[0;34m\u001b[0m\u001b[0;34m\u001b[0m\u001b[0m\n\u001b[1;32m   1753\u001b[0m             \u001b[0;32mif\u001b[0m \u001b[0mself\u001b[0m\u001b[0;34m.\u001b[0m\u001b[0m_aborting\u001b[0m\u001b[0;34m:\u001b[0m\u001b[0;34m\u001b[0m\u001b[0;34m\u001b[0m\u001b[0m\n\u001b[0;32m-> 1754\u001b[0;31m                 \u001b[0mself\u001b[0m\u001b[0;34m.\u001b[0m\u001b[0m_raise_error_fast\u001b[0m\u001b[0;34m(\u001b[0m\u001b[0;34m)\u001b[0m\u001b[0;34m\u001b[0m\u001b[0;34m\u001b[0m\u001b[0m\n\u001b[0m\u001b[1;32m   1755\u001b[0m                 \u001b[0;32mbreak\u001b[0m\u001b[0;34m\u001b[0m\u001b[0;34m\u001b[0m\u001b[0m\n\u001b[1;32m   1756\u001b[0m \u001b[0;34m\u001b[0m\u001b[0m\n",
            "\u001b[0;32m/usr/local/lib/python3.11/dist-packages/joblib/parallel.py\u001b[0m in \u001b[0;36m_raise_error_fast\u001b[0;34m(self)\u001b[0m\n\u001b[1;32m   1787\u001b[0m         \u001b[0;31m# called directly or if the generator is gc'ed.\u001b[0m\u001b[0;34m\u001b[0m\u001b[0;34m\u001b[0m\u001b[0m\n\u001b[1;32m   1788\u001b[0m         \u001b[0;32mif\u001b[0m \u001b[0merror_job\u001b[0m \u001b[0;32mis\u001b[0m \u001b[0;32mnot\u001b[0m \u001b[0;32mNone\u001b[0m\u001b[0;34m:\u001b[0m\u001b[0;34m\u001b[0m\u001b[0;34m\u001b[0m\u001b[0m\n\u001b[0;32m-> 1789\u001b[0;31m             \u001b[0merror_job\u001b[0m\u001b[0;34m.\u001b[0m\u001b[0mget_result\u001b[0m\u001b[0;34m(\u001b[0m\u001b[0mself\u001b[0m\u001b[0;34m.\u001b[0m\u001b[0mtimeout\u001b[0m\u001b[0;34m)\u001b[0m\u001b[0;34m\u001b[0m\u001b[0;34m\u001b[0m\u001b[0m\n\u001b[0m\u001b[1;32m   1790\u001b[0m \u001b[0;34m\u001b[0m\u001b[0m\n\u001b[1;32m   1791\u001b[0m     \u001b[0;32mdef\u001b[0m \u001b[0m_warn_exit_early\u001b[0m\u001b[0;34m(\u001b[0m\u001b[0mself\u001b[0m\u001b[0;34m)\u001b[0m\u001b[0;34m:\u001b[0m\u001b[0;34m\u001b[0m\u001b[0;34m\u001b[0m\u001b[0m\n",
            "\u001b[0;32m/usr/local/lib/python3.11/dist-packages/joblib/parallel.py\u001b[0m in \u001b[0;36mget_result\u001b[0;34m(self, timeout)\u001b[0m\n\u001b[1;32m    743\u001b[0m             \u001b[0;31m# callback thread, and is stored internally. It's just waiting to\u001b[0m\u001b[0;34m\u001b[0m\u001b[0;34m\u001b[0m\u001b[0m\n\u001b[1;32m    744\u001b[0m             \u001b[0;31m# be returned.\u001b[0m\u001b[0;34m\u001b[0m\u001b[0;34m\u001b[0m\u001b[0m\n\u001b[0;32m--> 745\u001b[0;31m             \u001b[0;32mreturn\u001b[0m \u001b[0mself\u001b[0m\u001b[0;34m.\u001b[0m\u001b[0m_return_or_raise\u001b[0m\u001b[0;34m(\u001b[0m\u001b[0;34m)\u001b[0m\u001b[0;34m\u001b[0m\u001b[0;34m\u001b[0m\u001b[0m\n\u001b[0m\u001b[1;32m    746\u001b[0m \u001b[0;34m\u001b[0m\u001b[0m\n\u001b[1;32m    747\u001b[0m         \u001b[0;31m# For other backends, the main thread needs to run the retrieval step.\u001b[0m\u001b[0;34m\u001b[0m\u001b[0;34m\u001b[0m\u001b[0m\n",
            "\u001b[0;32m/usr/local/lib/python3.11/dist-packages/joblib/parallel.py\u001b[0m in \u001b[0;36m_return_or_raise\u001b[0;34m(self)\u001b[0m\n\u001b[1;32m    761\u001b[0m         \u001b[0;32mtry\u001b[0m\u001b[0;34m:\u001b[0m\u001b[0;34m\u001b[0m\u001b[0;34m\u001b[0m\u001b[0m\n\u001b[1;32m    762\u001b[0m             \u001b[0;32mif\u001b[0m \u001b[0mself\u001b[0m\u001b[0;34m.\u001b[0m\u001b[0mstatus\u001b[0m \u001b[0;34m==\u001b[0m \u001b[0mTASK_ERROR\u001b[0m\u001b[0;34m:\u001b[0m\u001b[0;34m\u001b[0m\u001b[0;34m\u001b[0m\u001b[0m\n\u001b[0;32m--> 763\u001b[0;31m                 \u001b[0;32mraise\u001b[0m \u001b[0mself\u001b[0m\u001b[0;34m.\u001b[0m\u001b[0m_result\u001b[0m\u001b[0;34m\u001b[0m\u001b[0;34m\u001b[0m\u001b[0m\n\u001b[0m\u001b[1;32m    764\u001b[0m             \u001b[0;32mreturn\u001b[0m \u001b[0mself\u001b[0m\u001b[0;34m.\u001b[0m\u001b[0m_result\u001b[0m\u001b[0;34m\u001b[0m\u001b[0;34m\u001b[0m\u001b[0m\n\u001b[1;32m    765\u001b[0m         \u001b[0;32mfinally\u001b[0m\u001b[0;34m:\u001b[0m\u001b[0;34m\u001b[0m\u001b[0;34m\u001b[0m\u001b[0m\n",
            "\u001b[0;31mVersionNotFound\u001b[0m: Environment version `v3` for environment `LunarLanderContinuous` doesn't exist. It provides versioned environments: [ `v2` ]."
          ]
        }
      ]
    },
    {
      "cell_type": "code",
      "source": [
        "def foo(env):\n",
        "    s, _ = env.reset()\n",
        "    for _ in range(200):\n",
        "        env.step([0.03, 0.6])\n",
        "\n",
        "from gymnasium.wrappers import RecordVideo\n",
        "\n",
        "with RecordVideo(\n",
        "    env=gym.make(\"LunarLander-v3\", render_mode=\"rgb_array\", continuous=True).env,\n",
        "    video_folder=\"./videos_long\",\n",
        "    episode_trigger=lambda episode_number: True,\n",
        ") as env_monitor:\n",
        "    # env_monitor.env.unwrapped.TimeLimit = 10000\n",
        "    foo(env_monitor)"
      ],
      "metadata": {
        "id": "JA5drDRAP_8A",
        "outputId": "0c282c8f-da11-4d19-9e75-6e1bf4eb1385",
        "colab": {
          "base_uri": "https://localhost:8080/"
        }
      },
      "execution_count": 56,
      "outputs": [
        {
          "output_type": "stream",
          "name": "stderr",
          "text": [
            "/usr/local/lib/python3.11/dist-packages/gymnasium/wrappers/rendering.py:283: UserWarning: \u001b[33mWARN: Overwriting existing videos at /content/videos_long folder (try specifying a different `video_folder` for the `RecordVideo` wrapper if this is not desired)\u001b[0m\n",
            "  logger.warn(\n"
          ]
        }
      ]
    },
    {
      "cell_type": "code",
      "source": [
        "# Record sessions\n",
        "\n",
        "from gymnasium.wrappers import RecordVideo\n",
        "\n",
        "with RecordVideo(\n",
        "    env=gym.make(\"LunarLanderContinuous-v2\", render_mode=\"rgb_array\"),\n",
        "    video_folder=\"./videos_long\",\n",
        "    episode_trigger=lambda episode_number: True,\n",
        ") as env_monitor:\n",
        "    # env_monitor.env.unwrapped.TimeLimit = 10000\n",
        "    with torch.no_grad():\n",
        "        sessions = [generate_continuous_session(env_monitor, lunar_c[\"vertical_agent\"],lunar_c[\"lateral_agent\"], 3000, strategy_helper=strategy_helper) for _ in range(5)]\n"
      ],
      "metadata": {
        "id": "soa4xRApp7EW",
        "outputId": "ca13aec9-ccfd-44ee-c492-8a0e1222702a",
        "colab": {
          "base_uri": "https://localhost:8080/",
          "height": 356
        }
      },
      "execution_count": 111,
      "outputs": [
        {
          "output_type": "error",
          "ename": "AssertionError",
          "evalue": "",
          "traceback": [
            "\u001b[0;31m---------------------------------------------------------------------------\u001b[0m",
            "\u001b[0;31mAssertionError\u001b[0m                            Traceback (most recent call last)",
            "\u001b[0;32m<ipython-input-111-96b129982dde>\u001b[0m in \u001b[0;36m<cell line: 0>\u001b[0;34m()\u001b[0m\n\u001b[1;32m      3\u001b[0m \u001b[0;32mfrom\u001b[0m \u001b[0mgymnasium\u001b[0m\u001b[0;34m.\u001b[0m\u001b[0mwrappers\u001b[0m \u001b[0;32mimport\u001b[0m \u001b[0mRecordVideo\u001b[0m\u001b[0;34m\u001b[0m\u001b[0;34m\u001b[0m\u001b[0m\n\u001b[1;32m      4\u001b[0m \u001b[0;34m\u001b[0m\u001b[0m\n\u001b[0;32m----> 5\u001b[0;31m with RecordVideo(\n\u001b[0m\u001b[1;32m      6\u001b[0m     \u001b[0menv\u001b[0m\u001b[0;34m=\u001b[0m\u001b[0mgym\u001b[0m\u001b[0;34m.\u001b[0m\u001b[0mmake\u001b[0m\u001b[0;34m(\u001b[0m\u001b[0;34m\"LunarLanderContinuous-v2\"\u001b[0m\u001b[0;34m,\u001b[0m \u001b[0mrender_mode\u001b[0m\u001b[0;34m=\u001b[0m\u001b[0;34m\"rgb_array\"\u001b[0m\u001b[0;34m)\u001b[0m\u001b[0;34m,\u001b[0m\u001b[0;34m\u001b[0m\u001b[0;34m\u001b[0m\u001b[0m\n\u001b[1;32m      7\u001b[0m     \u001b[0mvideo_folder\u001b[0m\u001b[0;34m=\u001b[0m\u001b[0;34m\"./videos_long\"\u001b[0m\u001b[0;34m,\u001b[0m\u001b[0;34m\u001b[0m\u001b[0;34m\u001b[0m\u001b[0m\n",
            "\u001b[0;32m/usr/local/lib/python3.11/dist-packages/gymnasium/wrappers/rendering.py\u001b[0m in \u001b[0;36m__init__\u001b[0;34m(self, env, video_folder, episode_trigger, step_trigger, video_length, name_prefix, fps, disable_logger)\u001b[0m\n\u001b[1;32m    262\u001b[0m             \u001b[0mdisable_logger\u001b[0m\u001b[0;34m=\u001b[0m\u001b[0mdisable_logger\u001b[0m\u001b[0;34m,\u001b[0m\u001b[0;34m\u001b[0m\u001b[0;34m\u001b[0m\u001b[0m\n\u001b[1;32m    263\u001b[0m         )\n\u001b[0;32m--> 264\u001b[0;31m         \u001b[0mgym\u001b[0m\u001b[0;34m.\u001b[0m\u001b[0mWrapper\u001b[0m\u001b[0;34m.\u001b[0m\u001b[0m__init__\u001b[0m\u001b[0;34m(\u001b[0m\u001b[0mself\u001b[0m\u001b[0;34m,\u001b[0m \u001b[0menv\u001b[0m\u001b[0;34m)\u001b[0m\u001b[0;34m\u001b[0m\u001b[0;34m\u001b[0m\u001b[0m\n\u001b[0m\u001b[1;32m    265\u001b[0m \u001b[0;34m\u001b[0m\u001b[0m\n\u001b[1;32m    266\u001b[0m         \u001b[0;32mif\u001b[0m \u001b[0menv\u001b[0m\u001b[0;34m.\u001b[0m\u001b[0mrender_mode\u001b[0m \u001b[0;32min\u001b[0m \u001b[0;34m{\u001b[0m\u001b[0;32mNone\u001b[0m\u001b[0;34m,\u001b[0m \u001b[0;34m\"human\"\u001b[0m\u001b[0;34m,\u001b[0m \u001b[0;34m\"ansi\"\u001b[0m\u001b[0;34m}\u001b[0m\u001b[0;34m:\u001b[0m\u001b[0;34m\u001b[0m\u001b[0;34m\u001b[0m\u001b[0m\n",
            "\u001b[0;32m/usr/local/lib/python3.11/dist-packages/gymnasium/core.py\u001b[0m in \u001b[0;36m__init__\u001b[0;34m(self, env)\u001b[0m\n\u001b[1;32m    308\u001b[0m         \"\"\"\n\u001b[1;32m    309\u001b[0m         \u001b[0mself\u001b[0m\u001b[0;34m.\u001b[0m\u001b[0menv\u001b[0m \u001b[0;34m=\u001b[0m \u001b[0menv\u001b[0m\u001b[0;34m\u001b[0m\u001b[0;34m\u001b[0m\u001b[0m\n\u001b[0;32m--> 310\u001b[0;31m         \u001b[0;32massert\u001b[0m \u001b[0misinstance\u001b[0m\u001b[0;34m(\u001b[0m\u001b[0menv\u001b[0m\u001b[0;34m,\u001b[0m \u001b[0mEnv\u001b[0m\u001b[0;34m)\u001b[0m\u001b[0;34m\u001b[0m\u001b[0;34m\u001b[0m\u001b[0m\n\u001b[0m\u001b[1;32m    311\u001b[0m \u001b[0;34m\u001b[0m\u001b[0m\n\u001b[1;32m    312\u001b[0m         \u001b[0mself\u001b[0m\u001b[0;34m.\u001b[0m\u001b[0m_action_space\u001b[0m\u001b[0;34m:\u001b[0m \u001b[0mspaces\u001b[0m\u001b[0;34m.\u001b[0m\u001b[0mSpace\u001b[0m\u001b[0;34m[\u001b[0m\u001b[0mWrapperActType\u001b[0m\u001b[0;34m]\u001b[0m \u001b[0;34m|\u001b[0m \u001b[0;32mNone\u001b[0m \u001b[0;34m=\u001b[0m \u001b[0;32mNone\u001b[0m\u001b[0;34m\u001b[0m\u001b[0;34m\u001b[0m\u001b[0m\n",
            "\u001b[0;31mAssertionError\u001b[0m: "
          ]
        }
      ]
    },
    {
      "cell_type": "code",
      "source": [],
      "metadata": {
        "id": "PWMNy15x4vOE"
      },
      "execution_count": null,
      "outputs": []
    },
    {
      "cell_type": "markdown",
      "metadata": {
        "id": "Dzk41lDPG9zO"
      },
      "source": [
        "### Bonus tasks\n",
        "\n",
        "* __2.3 bonus__ (2 pts) Try to find a network architecture and training params that solve __both__ environments above (_Points depend on implementation. If you attempted this task, please mention it in Anytask submission._)\n",
        "\n",
        "* __2.4 bonus__ (4 pts) Solve continuous action space task with `MLPRegressor` or similar.\n",
        "  * Since your agent only predicts the \"expected\" action, you will have to add noise to ensure exploration.\n",
        "  * Choose one of [MountainCarContinuous-v0](https://gymnasium.farama.org/environments/classic_control/mountain_car_continuous/) (90+ pts to solve), [LunarLanderContinuous-v2](https://gymnasium.farama.org/environments/box2d/lunar_lander/) (`env = gym.make(\"LunarLander-v2\", continuous=True)`)(200+ pts to solve)\n",
        "  * 4 points for solving. Slightly less for getting some results below solution threshold. Note that discrete and continuous environments may have slightly different rules, aside from action spaces."
      ]
    },
    {
      "cell_type": "code",
      "source": [
        "import gym\n",
        "import numpy as np\n",
        "\n",
        "# Создаём среду\n",
        "env = gym.make(\"LunarLanderContinuous-v2\")\n",
        "\n",
        "# Параметры нейронной сети\n",
        "obs_dim = env.observation_space.shape[0]      # размерность наблюдений (8)\n",
        "action_dim = env.action_space.shape[0]          # размерность действий (2)\n",
        "hidden_size = 16                                # число нейронов в скрытом слое\n",
        "\n",
        "# Расчёт общего количества параметров:\n",
        "# Первый слой: obs_dim x hidden_size (веса) + hidden_size (смещения)\n",
        "# Второй слой: hidden_size x action_dim (веса) + action_dim (смещения)\n",
        "n_params = obs_dim * hidden_size + hidden_size + hidden_size * action_dim + action_dim\n",
        "\n",
        "def get_action(params, obs):\n",
        "    \"\"\"\n",
        "    Функция вычисления действия по наблюдению с использованием параметров политики.\n",
        "    Используется простая нейронная сеть с одним скрытым слоем и активацией tanh.\n",
        "    \"\"\"\n",
        "    # Извлекаем параметры для первого слоя\n",
        "    W1 = params[:obs_dim * hidden_size].reshape(obs_dim, hidden_size)\n",
        "    b1 = params[obs_dim * hidden_size:obs_dim * hidden_size + hidden_size]\n",
        "\n",
        "    # Извлекаем параметры для второго слоя\n",
        "    start = obs_dim * hidden_size + hidden_size\n",
        "    W2 = params[start:start + hidden_size * action_dim].reshape(hidden_size, action_dim)\n",
        "    b2 = params[start + hidden_size * action_dim:]\n",
        "\n",
        "    # Прямой проход (forward pass)\n",
        "    hidden = np.tanh(np.dot(obs, W1) + b1)\n",
        "    action = np.tanh(np.dot(hidden, W2) + b2)\n",
        "    return action\n",
        "\n",
        "def evaluate_policy(params, env, n_episodes=1, render=False):\n",
        "    \"\"\"\n",
        "    Оценивает политику (зафиксированные параметры) по среднему значению суммарной награды\n",
        "    за n_episodes эпизодов.\n",
        "    \"\"\"\n",
        "    total_reward = 0.0\n",
        "    for _ in range(n_episodes):\n",
        "        obs = env.reset()\n",
        "        done = False\n",
        "        ep_reward = 0.0\n",
        "        while not done:\n",
        "            action = get_action(params, obs)\n",
        "            obs, reward, done, _ = env.step(action)\n",
        "            ep_reward += reward\n",
        "            if render:\n",
        "                env.render()\n",
        "        total_reward += ep_reward\n",
        "    return total_reward / n_episodes\n",
        "\n",
        "# Гиперпараметры алгоритма CEM\n",
        "n_iterations = 100         # число итераций оптимизации\n",
        "n_candidates = 50          # число кандидатов на каждой итерации\n",
        "elite_frac = 0.2           # доля элитных кандидатов\n",
        "n_elite = int(n_candidates * elite_frac)\n",
        "noise_std = 1.0            # начальное стандартное отклонение для распределения\n",
        "\n",
        "# Инициализируем распределение параметров\n",
        "mean = np.zeros(n_params)\n",
        "std = np.ones(n_params) * noise_std\n",
        "\n",
        "best_reward = -np.inf\n",
        "best_params = None\n",
        "\n",
        "# Основной цикл CEM\n",
        "for iteration in range(n_iterations):\n",
        "    # Генерация кандидатов\n",
        "    candidates = np.array([mean + std * np.random.randn(n_params) for _ in range(n_candidates)])\n",
        "    rewards = np.array([evaluate_policy(params, env, n_episodes=1) for params in candidates])\n",
        "\n",
        "    # Выбор элитных кандидатов с наивысшими наградами\n",
        "    elite_idxs = rewards.argsort()[-n_elite:]\n",
        "    elite_candidates = candidates[elite_idxs]\n",
        "\n",
        "    # Обновление распределения (новые mean и std)\n",
        "    mean = elite_candidates.mean(axis=0)\n",
        "    std = elite_candidates.std(axis=0)\n",
        "\n",
        "    # Сохранение лучших параметров\n",
        "    if rewards.max() > best_reward:\n",
        "        best_reward = rewards.max()\n",
        "        best_params = candidates[rewards.argmax()]\n",
        "\n",
        "    print(f\"Итерация: {iteration:3d} | Лучшая награда: {rewards.max():.2f}\")\n",
        "\n",
        "print(\"Лучшее значение награды:\", best_reward)\n",
        "\n",
        "# Демонстрация работы лучшей найденной политики\n",
        "obs = env.reset()\n",
        "done = False\n",
        "while not done:\n",
        "    env.render()\n",
        "    action = get_action(best_params, obs)\n",
        "    obs, reward, done, _ = env.step(action)\n",
        "\n",
        "env.close()\n"
      ],
      "metadata": {
        "id": "NcSu675I4wvy",
        "outputId": "c103f5e8-b0ee-4a00-8154-6842b4506676",
        "colab": {
          "base_uri": "https://localhost:8080/"
        }
      },
      "execution_count": 101,
      "outputs": [
        {
          "output_type": "stream",
          "name": "stderr",
          "text": [
            "/usr/local/lib/python3.11/dist-packages/gym/core.py:317: DeprecationWarning: \u001b[33mWARN: Initializing wrapper in old step API which returns one bool instead of two. It is recommended to set `new_step_api=True` to use new step API. This will be the default behaviour in future.\u001b[0m\n",
            "  deprecation(\n",
            "/usr/local/lib/python3.11/dist-packages/gym/wrappers/step_api_compatibility.py:39: DeprecationWarning: \u001b[33mWARN: Initializing environment in old step API which returns one bool instead of two. It is recommended to set `new_step_api=True` to use new step API. This will be the default behaviour in future.\u001b[0m\n",
            "  deprecation(\n",
            "/usr/local/lib/python3.11/dist-packages/gym/utils/passive_env_checker.py:241: DeprecationWarning: `np.bool8` is a deprecated alias for `np.bool_`.  (Deprecated NumPy 1.24)\n",
            "  if not isinstance(terminated, (bool, np.bool8)):\n"
          ]
        },
        {
          "output_type": "stream",
          "name": "stdout",
          "text": [
            "Итерация:   0 | Лучшая награда: -90.06\n",
            "Итерация:   1 | Лучшая награда: -32.64\n",
            "Итерация:   2 | Лучшая награда: 37.80\n",
            "Итерация:   3 | Лучшая награда: -124.18\n",
            "Итерация:   4 | Лучшая награда: -49.42\n",
            "Итерация:   5 | Лучшая награда: 15.52\n",
            "Итерация:   6 | Лучшая награда: -8.15\n",
            "Итерация:   7 | Лучшая награда: 42.13\n",
            "Итерация:   8 | Лучшая награда: -4.43\n",
            "Итерация:   9 | Лучшая награда: -33.59\n",
            "Итерация:  10 | Лучшая награда: -31.09\n",
            "Итерация:  11 | Лучшая награда: 1.72\n",
            "Итерация:  12 | Лучшая награда: -15.13\n",
            "Итерация:  13 | Лучшая награда: -5.37\n",
            "Итерация:  14 | Лучшая награда: 44.21\n",
            "Итерация:  15 | Лучшая награда: 17.07\n",
            "Итерация:  16 | Лучшая награда: 37.85\n",
            "Итерация:  17 | Лучшая награда: 53.29\n",
            "Итерация:  18 | Лучшая награда: 37.02\n",
            "Итерация:  19 | Лучшая награда: 33.83\n",
            "Итерация:  20 | Лучшая награда: 18.90\n",
            "Итерация:  21 | Лучшая награда: 38.15\n",
            "Итерация:  22 | Лучшая награда: 63.95\n",
            "Итерация:  23 | Лучшая награда: 41.11\n",
            "Итерация:  24 | Лучшая награда: 50.35\n",
            "Итерация:  25 | Лучшая награда: 52.95\n",
            "Итерация:  26 | Лучшая награда: 255.27\n",
            "Итерация:  27 | Лучшая награда: 65.05\n",
            "Итерация:  28 | Лучшая награда: 228.00\n",
            "Итерация:  29 | Лучшая награда: 46.09\n",
            "Итерация:  30 | Лучшая награда: 228.53\n",
            "Итерация:  31 | Лучшая награда: 57.15\n",
            "Итерация:  32 | Лучшая награда: 55.06\n",
            "Итерация:  33 | Лучшая награда: 57.39\n",
            "Итерация:  34 | Лучшая награда: 193.22\n",
            "Итерация:  35 | Лучшая награда: 58.01\n",
            "Итерация:  36 | Лучшая награда: 56.82\n",
            "Итерация:  37 | Лучшая награда: 70.33\n",
            "Итерация:  38 | Лучшая награда: 41.16\n",
            "Итерация:  39 | Лучшая награда: 251.21\n",
            "Итерация:  40 | Лучшая награда: 215.50\n",
            "Итерация:  41 | Лучшая награда: 224.89\n",
            "Итерация:  42 | Лучшая награда: 223.96\n",
            "Итерация:  43 | Лучшая награда: 61.12\n",
            "Итерация:  44 | Лучшая награда: 240.97\n",
            "Итерация:  45 | Лучшая награда: 65.71\n",
            "Итерация:  46 | Лучшая награда: 199.70\n",
            "Итерация:  47 | Лучшая награда: 59.06\n",
            "Итерация:  48 | Лучшая награда: 274.97\n",
            "Итерация:  49 | Лучшая награда: 65.85\n",
            "Итерация:  50 | Лучшая награда: 225.24\n",
            "Итерация:  51 | Лучшая награда: 67.16\n",
            "Итерация:  52 | Лучшая награда: 243.24\n",
            "Итерация:  53 | Лучшая награда: 204.76\n",
            "Итерация:  54 | Лучшая награда: 60.24\n",
            "Итерация:  55 | Лучшая награда: 200.68\n",
            "Итерация:  56 | Лучшая награда: 70.02\n",
            "Итерация:  57 | Лучшая награда: 68.92\n",
            "Итерация:  58 | Лучшая награда: 62.14\n",
            "Итерация:  59 | Лучшая награда: 224.58\n",
            "Итерация:  60 | Лучшая награда: 190.76\n",
            "Итерация:  61 | Лучшая награда: 218.91\n",
            "Итерация:  62 | Лучшая награда: 68.22\n",
            "Итерация:  63 | Лучшая награда: 68.59\n",
            "Итерация:  64 | Лучшая награда: 239.36\n",
            "Итерация:  65 | Лучшая награда: 221.88\n",
            "Итерация:  66 | Лучшая награда: 201.77\n",
            "Итерация:  67 | Лучшая награда: 181.30\n",
            "Итерация:  68 | Лучшая награда: 219.93\n",
            "Итерация:  69 | Лучшая награда: 238.72\n",
            "Итерация:  70 | Лучшая награда: 68.16\n",
            "Итерация:  71 | Лучшая награда: 200.23\n",
            "Итерация:  72 | Лучшая награда: 218.72\n",
            "Итерация:  73 | Лучшая награда: 66.30\n",
            "Итерация:  74 | Лучшая награда: 229.14\n",
            "Итерация:  75 | Лучшая награда: 61.51\n",
            "Итерация:  76 | Лучшая награда: 61.38\n",
            "Итерация:  77 | Лучшая награда: 68.94\n",
            "Итерация:  78 | Лучшая награда: 61.24\n",
            "Итерация:  79 | Лучшая награда: 241.05\n",
            "Итерация:  80 | Лучшая награда: 78.26\n",
            "Итерация:  81 | Лучшая награда: 69.30\n",
            "Итерация:  82 | Лучшая награда: 83.44\n",
            "Итерация:  83 | Лучшая награда: 71.81\n",
            "Итерация:  84 | Лучшая награда: 72.90\n",
            "Итерация:  85 | Лучшая награда: 78.54\n",
            "Итерация:  86 | Лучшая награда: 230.02\n",
            "Итерация:  87 | Лучшая награда: 202.15\n",
            "Итерация:  88 | Лучшая награда: 258.28\n",
            "Итерация:  89 | Лучшая награда: 66.11\n",
            "Итерация:  90 | Лучшая награда: 65.41\n",
            "Итерация:  91 | Лучшая награда: 59.08\n",
            "Итерация:  92 | Лучшая награда: 228.13\n",
            "Итерация:  93 | Лучшая награда: 272.23\n",
            "Итерация:  94 | Лучшая награда: 46.41\n",
            "Итерация:  95 | Лучшая награда: 220.31\n",
            "Итерация:  96 | Лучшая награда: 59.69\n",
            "Итерация:  97 | Лучшая награда: 80.04\n",
            "Итерация:  98 | Лучшая награда: 194.83\n",
            "Итерация:  99 | Лучшая награда: 187.15\n",
            "Лучшее значение награды: 274.97354716199743\n"
          ]
        },
        {
          "output_type": "stream",
          "name": "stderr",
          "text": [
            "/usr/local/lib/python3.11/dist-packages/gym/core.py:49: DeprecationWarning: \u001b[33mWARN: You are calling render method, but you didn't specified the argument render_mode at environment initialization. To maintain backward compatibility, the environment will render in human mode.\n",
            "If you want to render in human mode, initialize the environment in this way: gym.make('EnvName', render_mode='human') and don't call the render method.\n",
            "See here for more information: https://www.gymlibrary.ml/content/api/\u001b[0m\n",
            "  deprecation(\n"
          ]
        }
      ]
    },
    {
      "cell_type": "code",
      "source": [
        "\n",
        "def generate(env):\n",
        "    obs, _ = env.reset()\n",
        "    done = False\n",
        "    while not done:\n",
        "        env.render()\n",
        "        action = get_action(best_params, obs)\n",
        "        obs, reward, done, _ = env.step(action)"
      ],
      "metadata": {
        "id": "FG1VN2pg59e4"
      },
      "execution_count": 103,
      "outputs": []
    },
    {
      "cell_type": "code",
      "source": [
        "\n",
        "from gymnasium.wrappers import RecordVideo\n",
        "\n",
        "with RecordVideo(\n",
        "    env=gym.make(\"LunarLander-v2\", render_mode=\"rgb_array\", continuous=True),\n",
        "    video_folder=\"./videos_long\",\n",
        "    episode_trigger=lambda episode_number: True,\n",
        ") as env_monitor:\n",
        "    # env_monitor.env.unwrapped.TimeLimit = 10000\n",
        "    with torch.no_grad():\n",
        "        sessions = [generate(env_monitor) for _ in range(5)]\n"
      ],
      "metadata": {
        "id": "X1qq-fnV6U86",
        "outputId": "f37a1b9f-8ff9-4aed-fef0-2bcf1f61ad12",
        "colab": {
          "base_uri": "https://localhost:8080/",
          "height": 373
        }
      },
      "execution_count": 112,
      "outputs": [
        {
          "output_type": "error",
          "ename": "AssertionError",
          "evalue": "",
          "traceback": [
            "\u001b[0;31m---------------------------------------------------------------------------\u001b[0m",
            "\u001b[0;31mAssertionError\u001b[0m                            Traceback (most recent call last)",
            "\u001b[0;32m<ipython-input-112-96390c09a305>\u001b[0m in \u001b[0;36m<cell line: 0>\u001b[0;34m()\u001b[0m\n\u001b[1;32m      1\u001b[0m \u001b[0;32mfrom\u001b[0m \u001b[0mgymnasium\u001b[0m\u001b[0;34m.\u001b[0m\u001b[0mwrappers\u001b[0m \u001b[0;32mimport\u001b[0m \u001b[0mRecordVideo\u001b[0m\u001b[0;34m\u001b[0m\u001b[0;34m\u001b[0m\u001b[0m\n\u001b[1;32m      2\u001b[0m \u001b[0;34m\u001b[0m\u001b[0m\n\u001b[0;32m----> 3\u001b[0;31m with RecordVideo(\n\u001b[0m\u001b[1;32m      4\u001b[0m     \u001b[0menv\u001b[0m\u001b[0;34m=\u001b[0m\u001b[0mgym\u001b[0m\u001b[0;34m.\u001b[0m\u001b[0mmake\u001b[0m\u001b[0;34m(\u001b[0m\u001b[0;34m\"LunarLander-v2\"\u001b[0m\u001b[0;34m,\u001b[0m \u001b[0mrender_mode\u001b[0m\u001b[0;34m=\u001b[0m\u001b[0;34m\"rgb_array\"\u001b[0m\u001b[0;34m,\u001b[0m \u001b[0mcontinuous\u001b[0m\u001b[0;34m=\u001b[0m\u001b[0;32mTrue\u001b[0m\u001b[0;34m)\u001b[0m\u001b[0;34m,\u001b[0m\u001b[0;34m\u001b[0m\u001b[0;34m\u001b[0m\u001b[0m\n\u001b[1;32m      5\u001b[0m     \u001b[0mvideo_folder\u001b[0m\u001b[0;34m=\u001b[0m\u001b[0;34m\"./videos_long\"\u001b[0m\u001b[0;34m,\u001b[0m\u001b[0;34m\u001b[0m\u001b[0;34m\u001b[0m\u001b[0m\n",
            "\u001b[0;32m/usr/local/lib/python3.11/dist-packages/gymnasium/wrappers/rendering.py\u001b[0m in \u001b[0;36m__init__\u001b[0;34m(self, env, video_folder, episode_trigger, step_trigger, video_length, name_prefix, fps, disable_logger)\u001b[0m\n\u001b[1;32m    262\u001b[0m             \u001b[0mdisable_logger\u001b[0m\u001b[0;34m=\u001b[0m\u001b[0mdisable_logger\u001b[0m\u001b[0;34m,\u001b[0m\u001b[0;34m\u001b[0m\u001b[0;34m\u001b[0m\u001b[0m\n\u001b[1;32m    263\u001b[0m         )\n\u001b[0;32m--> 264\u001b[0;31m         \u001b[0mgym\u001b[0m\u001b[0;34m.\u001b[0m\u001b[0mWrapper\u001b[0m\u001b[0;34m.\u001b[0m\u001b[0m__init__\u001b[0m\u001b[0;34m(\u001b[0m\u001b[0mself\u001b[0m\u001b[0;34m,\u001b[0m \u001b[0menv\u001b[0m\u001b[0;34m)\u001b[0m\u001b[0;34m\u001b[0m\u001b[0;34m\u001b[0m\u001b[0m\n\u001b[0m\u001b[1;32m    265\u001b[0m \u001b[0;34m\u001b[0m\u001b[0m\n\u001b[1;32m    266\u001b[0m         \u001b[0;32mif\u001b[0m \u001b[0menv\u001b[0m\u001b[0;34m.\u001b[0m\u001b[0mrender_mode\u001b[0m \u001b[0;32min\u001b[0m \u001b[0;34m{\u001b[0m\u001b[0;32mNone\u001b[0m\u001b[0;34m,\u001b[0m \u001b[0;34m\"human\"\u001b[0m\u001b[0;34m,\u001b[0m \u001b[0;34m\"ansi\"\u001b[0m\u001b[0;34m}\u001b[0m\u001b[0;34m:\u001b[0m\u001b[0;34m\u001b[0m\u001b[0;34m\u001b[0m\u001b[0m\n",
            "\u001b[0;32m/usr/local/lib/python3.11/dist-packages/gymnasium/core.py\u001b[0m in \u001b[0;36m__init__\u001b[0;34m(self, env)\u001b[0m\n\u001b[1;32m    308\u001b[0m         \"\"\"\n\u001b[1;32m    309\u001b[0m         \u001b[0mself\u001b[0m\u001b[0;34m.\u001b[0m\u001b[0menv\u001b[0m \u001b[0;34m=\u001b[0m \u001b[0menv\u001b[0m\u001b[0;34m\u001b[0m\u001b[0;34m\u001b[0m\u001b[0m\n\u001b[0;32m--> 310\u001b[0;31m         \u001b[0;32massert\u001b[0m \u001b[0misinstance\u001b[0m\u001b[0;34m(\u001b[0m\u001b[0menv\u001b[0m\u001b[0;34m,\u001b[0m \u001b[0mEnv\u001b[0m\u001b[0;34m)\u001b[0m\u001b[0;34m\u001b[0m\u001b[0;34m\u001b[0m\u001b[0m\n\u001b[0m\u001b[1;32m    311\u001b[0m \u001b[0;34m\u001b[0m\u001b[0m\n\u001b[1;32m    312\u001b[0m         \u001b[0mself\u001b[0m\u001b[0;34m.\u001b[0m\u001b[0m_action_space\u001b[0m\u001b[0;34m:\u001b[0m \u001b[0mspaces\u001b[0m\u001b[0;34m.\u001b[0m\u001b[0mSpace\u001b[0m\u001b[0;34m[\u001b[0m\u001b[0mWrapperActType\u001b[0m\u001b[0;34m]\u001b[0m \u001b[0;34m|\u001b[0m \u001b[0;32mNone\u001b[0m \u001b[0;34m=\u001b[0m \u001b[0;32mNone\u001b[0m\u001b[0;34m\u001b[0m\u001b[0;34m\u001b[0m\u001b[0m\n",
            "\u001b[0;31mAssertionError\u001b[0m: "
          ]
        }
      ]
    },
    {
      "cell_type": "code",
      "source": [],
      "metadata": {
        "id": "1f_E_KwP6twE"
      },
      "execution_count": null,
      "outputs": []
    }
  ],
  "metadata": {
    "colab": {
      "provenance": []
    },
    "kernelspec": {
      "display_name": "Python 3",
      "language": "python",
      "name": "python3"
    },
    "language_info": {
      "codemirror_mode": {
        "name": "ipython",
        "version": 3
      },
      "file_extension": ".py",
      "mimetype": "text/x-python",
      "name": "python",
      "nbconvert_exporter": "python",
      "pygments_lexer": "ipython3",
      "version": "3.8.5"
    }
  },
  "nbformat": 4,
  "nbformat_minor": 0
}